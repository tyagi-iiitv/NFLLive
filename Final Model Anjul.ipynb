{
 "cells": [
  {
   "cell_type": "markdown",
   "metadata": {},
   "source": [
    "# Run only the last section \"Finally all set to build the smoothing funciton\" in this notebook .. no need to run any other code to regenerate the files "
   ]
  },
  {
   "cell_type": "code",
   "execution_count": 1,
   "metadata": {},
   "outputs": [],
   "source": [
    "import numpy as np\n",
    "import pandas as pd\n",
    "import matplotlib.pyplot as plt\n",
    "import glob\n",
    "from sklearn import linear_model\n",
    "# plt.rcParams['figure.figsize'] = (25, 6)\n",
    "%matplotlib inline\n",
    "plt.rcParams['figure.figsize'] = (15, 6) \n",
    "import warnings\n",
    "def ignore_warn(*args, **kwargs):\n",
    "    pass\n",
    "warnings.warn = ignore_warn #ignore annoying warning"
   ]
  },
  {
   "cell_type": "code",
   "execution_count": 2,
   "metadata": {},
   "outputs": [],
   "source": [
    "data = pd.read_csv('data/full_data')"
   ]
  },
  {
   "cell_type": "code",
   "execution_count": 3,
   "metadata": {},
   "outputs": [
    {
     "data": {
      "text/html": [
       "<div>\n",
       "<style scoped>\n",
       "    .dataframe tbody tr th:only-of-type {\n",
       "        vertical-align: middle;\n",
       "    }\n",
       "\n",
       "    .dataframe tbody tr th {\n",
       "        vertical-align: top;\n",
       "    }\n",
       "\n",
       "    .dataframe thead th {\n",
       "        text-align: right;\n",
       "    }\n",
       "</style>\n",
       "<table border=\"1\" class=\"dataframe\">\n",
       "  <thead>\n",
       "    <tr style=\"text-align: right;\">\n",
       "      <th></th>\n",
       "      <th>GameID</th>\n",
       "      <th>Drive</th>\n",
       "      <th>qtr</th>\n",
       "      <th>down</th>\n",
       "      <th>TimeSecs</th>\n",
       "      <th>yrdline100</th>\n",
       "      <th>posteam</th>\n",
       "      <th>DefensiveTeam</th>\n",
       "      <th>sp</th>\n",
       "      <th>ScoreDiff</th>\n",
       "      <th>...</th>\n",
       "      <th>Underdog</th>\n",
       "      <th>Spread</th>\n",
       "      <th>CoverOrNot</th>\n",
       "      <th>FavScoreDiff</th>\n",
       "      <th>favTeamOnBall</th>\n",
       "      <th>DownClass</th>\n",
       "      <th>TimeSecsClass</th>\n",
       "      <th>yrdline100Class</th>\n",
       "      <th>FavScoreDiffClass</th>\n",
       "      <th>Prob</th>\n",
       "    </tr>\n",
       "  </thead>\n",
       "  <tbody>\n",
       "  </tbody>\n",
       "</table>\n",
       "<p>0 rows × 31 columns</p>\n",
       "</div>"
      ],
      "text/plain": [
       "Empty DataFrame\n",
       "Columns: [GameID, Drive, qtr, down, TimeSecs, yrdline100, posteam, DefensiveTeam, sp, ScoreDiff, HomeTeam, AwayTeam, season, week, Home, Away, HomeScore, AwayScore, Day, Time, Favorite, Underdog, Spread, CoverOrNot, FavScoreDiff, favTeamOnBall, DownClass, TimeSecsClass, yrdline100Class, FavScoreDiffClass, Prob]\n",
       "Index: []\n",
       "\n",
       "[0 rows x 31 columns]"
      ]
     },
     "execution_count": 3,
     "metadata": {},
     "output_type": "execute_result"
    }
   ],
   "source": [
    "data.head(0)"
   ]
  },
  {
   "cell_type": "code",
   "execution_count": 4,
   "metadata": {},
   "outputs": [],
   "source": [
    "class_names = ['favTeamOnBall','FavScoreDiffClass','yrdline100Class','TimeSecsClass','DownClass']\n",
    "countNoZero = data.groupby(class_names).size().reset_index(name='counts')\n",
    "# Counting the values in each bucket\n",
    "bucket = pd.pivot_table(countNoZero,\n",
    "                           index=class_names,\n",
    "                           values='counts',\n",
    "                           fill_value = 0,\n",
    "                           dropna=False,\n",
    "                           aggfunc=np.sum)"
   ]
  },
  {
   "cell_type": "code",
   "execution_count": 5,
   "metadata": {},
   "outputs": [],
   "source": [
    "bucket = bucket.reset_index()"
   ]
  },
  {
   "cell_type": "markdown",
   "metadata": {},
   "source": [
    "### Analysis for defense"
   ]
  },
  {
   "cell_type": "code",
   "execution_count": 6,
   "metadata": {},
   "outputs": [],
   "source": [
    "bucket_def = bucket[bucket['favTeamOnBall']==-1]"
   ]
  },
  {
   "cell_type": "code",
   "execution_count": 7,
   "metadata": {},
   "outputs": [],
   "source": [
    "bucket_def.drop(columns=['favTeamOnBall','counts'], inplace=True, axis=1)"
   ]
  },
  {
   "cell_type": "code",
   "execution_count": 8,
   "metadata": {},
   "outputs": [
    {
     "data": {
      "text/plain": [
       "33600"
      ]
     },
     "execution_count": 8,
     "metadata": {},
     "output_type": "execute_result"
    }
   ],
   "source": [
    "bucket_def.shape[0]"
   ]
  },
  {
   "cell_type": "code",
   "execution_count": 9,
   "metadata": {},
   "outputs": [],
   "source": [
    "bucket_def['p1'] = np.NaN\n",
    "bucket_def['p2'] = np.NaN\n",
    "bucket_def['p3'] = np.NaN\n",
    "bucket_def['p4'] = np.NaN"
   ]
  },
  {
   "cell_type": "code",
   "execution_count": 10,
   "metadata": {},
   "outputs": [],
   "source": [
    "for index,row in bucket_def.iterrows():\n",
    "    temp = data[['Prob','FavScoreDiffClass']][(data.yrdline100Class == row.yrdline100Class)&\n",
    "                                       (data.TimeSecsClass == row.TimeSecsClass)&\n",
    "                                       (data.DownClass == row.DownClass)]\n",
    "    if(temp.shape[0] > 0):\n",
    "        reg = linear_model.LinearRegression()\n",
    "        reg.fit(temp['FavScoreDiffClass'].reshape(-1,1),temp['Prob'])\n",
    "        bucket_def.set_value(index, 'p1', reg.predict(row['FavScoreDiffClass']))"
   ]
  },
  {
   "cell_type": "code",
   "execution_count": 11,
   "metadata": {},
   "outputs": [],
   "source": [
    "for index,row in bucket_def.iterrows():\n",
    "    temp = data[['Prob','yrdline100Class']][(data.FavScoreDiffClass == row.FavScoreDiffClass)&\n",
    "                                       (data.TimeSecsClass == row.TimeSecsClass)&\n",
    "                                       (data.DownClass == row.DownClass)]\n",
    "    if(temp.shape[0] > 0):\n",
    "        reg = linear_model.LinearRegression()\n",
    "        reg.fit(temp['yrdline100Class'].reshape(-1,1),temp['Prob'])\n",
    "        bucket_def.set_value(index, 'p2', reg.predict(row['yrdline100Class']))"
   ]
  },
  {
   "cell_type": "code",
   "execution_count": 12,
   "metadata": {
    "scrolled": false
   },
   "outputs": [],
   "source": [
    "for index,row in bucket_def.iterrows():\n",
    "    temp = data[['Prob','TimeSecsClass']][(data.yrdline100Class == row.yrdline100Class)&\n",
    "                                       (data.FavScoreDiffClass == row.FavScoreDiffClass)&\n",
    "                                       (data.DownClass == row.DownClass)]\n",
    "    if(temp.shape[0] > 0):\n",
    "        reg = linear_model.LinearRegression()\n",
    "        reg.fit(temp['TimeSecsClass'].reshape(-1,1),temp['Prob'])\n",
    "        bucket_def.set_value(index, 'p3', reg.predict(row['TimeSecsClass']))"
   ]
  },
  {
   "cell_type": "code",
   "execution_count": 13,
   "metadata": {},
   "outputs": [],
   "source": [
    "for index,row in bucket_def.iterrows():\n",
    "    temp = data[['Prob','DownClass']][(data.yrdline100Class == row.yrdline100Class)&\n",
    "                                       (data.FavScoreDiffClass == row.FavScoreDiffClass)&\n",
    "                                       (data.TimeSecsClass == row.TimeSecsClass)]\n",
    "    if(temp.shape[0] > 0):\n",
    "        reg = linear_model.LinearRegression()\n",
    "        reg.fit(temp['DownClass'].reshape(-1,1),temp['Prob'])\n",
    "        bucket_def.set_value(index, 'p4', reg.predict(row['DownClass']))"
   ]
  },
  {
   "cell_type": "code",
   "execution_count": 14,
   "metadata": {},
   "outputs": [],
   "source": [
    "bucket_att = bucket[bucket['favTeamOnBall']==1]"
   ]
  },
  {
   "cell_type": "code",
   "execution_count": 15,
   "metadata": {},
   "outputs": [],
   "source": [
    "bucket_att.drop(columns=['favTeamOnBall','counts'], inplace=True, axis=1)"
   ]
  },
  {
   "cell_type": "code",
   "execution_count": 16,
   "metadata": {},
   "outputs": [
    {
     "data": {
      "text/plain": [
       "33600"
      ]
     },
     "execution_count": 16,
     "metadata": {},
     "output_type": "execute_result"
    }
   ],
   "source": [
    "bucket_att.shape[0]"
   ]
  },
  {
   "cell_type": "code",
   "execution_count": 17,
   "metadata": {},
   "outputs": [],
   "source": [
    "bucket_att['p1'] = np.NaN\n",
    "bucket_att['p2'] = np.NaN\n",
    "bucket_att['p3'] = np.NaN\n",
    "bucket_att['p4'] = np.NaN"
   ]
  },
  {
   "cell_type": "code",
   "execution_count": 18,
   "metadata": {},
   "outputs": [],
   "source": [
    "for index,row in bucket_att.iterrows():\n",
    "    temp = data[['Prob','FavScoreDiffClass']][(data.yrdline100Class == row.yrdline100Class)&\n",
    "                                       (data.TimeSecsClass == row.TimeSecsClass)&\n",
    "                                       (data.DownClass == row.DownClass)]\n",
    "    if(temp.shape[0] > 0):\n",
    "        reg = linear_model.LinearRegression()\n",
    "        reg.fit(temp['FavScoreDiffClass'].reshape(-1,1),temp['Prob'])\n",
    "        bucket_att.set_value(index, 'p1', reg.predict(row['FavScoreDiffClass']))"
   ]
  },
  {
   "cell_type": "code",
   "execution_count": 19,
   "metadata": {},
   "outputs": [],
   "source": [
    "for index,row in bucket_att.iterrows():\n",
    "    temp = data[['Prob','yrdline100Class']][(data.FavScoreDiffClass == row.FavScoreDiffClass)&\n",
    "                                       (data.TimeSecsClass == row.TimeSecsClass)&\n",
    "                                       (data.DownClass == row.DownClass)]\n",
    "    if(temp.shape[0] > 0):\n",
    "        reg = linear_model.LinearRegression()\n",
    "        reg.fit(temp['yrdline100Class'].reshape(-1,1),temp['Prob'])\n",
    "        bucket_att.set_value(index, 'p2', reg.predict(row['yrdline100Class']))"
   ]
  },
  {
   "cell_type": "code",
   "execution_count": 20,
   "metadata": {},
   "outputs": [],
   "source": [
    "for index,row in bucket_att.iterrows():\n",
    "    temp = data[['Prob','TimeSecsClass']][(data.yrdline100Class == row.yrdline100Class)&\n",
    "                                       (data.FavScoreDiffClass == row.FavScoreDiffClass)&\n",
    "                                       (data.DownClass == row.DownClass)]\n",
    "    if(temp.shape[0] > 0):\n",
    "        reg = linear_model.LinearRegression()\n",
    "        reg.fit(temp['TimeSecsClass'].reshape(-1,1),temp['Prob'])\n",
    "        bucket_att.set_value(index, 'p3', reg.predict(row['TimeSecsClass']))"
   ]
  },
  {
   "cell_type": "code",
   "execution_count": 21,
   "metadata": {},
   "outputs": [],
   "source": [
    "for index,row in bucket_att.iterrows():\n",
    "    temp = data[['Prob','DownClass']][(data.yrdline100Class == row.yrdline100Class)&\n",
    "                                       (data.FavScoreDiffClass == row.FavScoreDiffClass)&\n",
    "                                       (data.TimeSecsClass == row.TimeSecsClass)]\n",
    "    if(temp.shape[0] > 0):\n",
    "        reg = linear_model.LinearRegression()\n",
    "        reg.fit(temp['DownClass'].reshape(-1,1),temp['Prob'])\n",
    "        bucket_att.set_value(index, 'p4', reg.predict(row['DownClass']))"
   ]
  },
  {
   "cell_type": "code",
   "execution_count": 22,
   "metadata": {},
   "outputs": [],
   "source": [
    "bucket_att_final = bucket_att[['p1','p2','p3','p4']]"
   ]
  },
  {
   "cell_type": "code",
   "execution_count": 23,
   "metadata": {},
   "outputs": [],
   "source": [
    "bucket_att_final[bucket_att_final < 0] = np.NaN"
   ]
  },
  {
   "cell_type": "code",
   "execution_count": 24,
   "metadata": {},
   "outputs": [],
   "source": [
    "bucket_att_final[bucket_att_final >= 1] = np.NaN"
   ]
  },
  {
   "cell_type": "code",
   "execution_count": 25,
   "metadata": {},
   "outputs": [],
   "source": [
    "bucket_def_final = bucket_def[['p1','p2','p3','p4']]"
   ]
  },
  {
   "cell_type": "code",
   "execution_count": 26,
   "metadata": {},
   "outputs": [],
   "source": [
    "bucket_def_final[bucket_def_final<0] = np.NaN"
   ]
  },
  {
   "cell_type": "code",
   "execution_count": 27,
   "metadata": {},
   "outputs": [],
   "source": [
    "bucket_def_final[bucket_def_final >= 1] = np.NaN"
   ]
  },
  {
   "cell_type": "code",
   "execution_count": 28,
   "metadata": {},
   "outputs": [],
   "source": [
    "bucket_att_final['TimeSecsClass'] = bucket_att['TimeSecsClass']\n",
    "bucket_att_final['DownClass'] = bucket_att['DownClass']\n",
    "bucket_att_final['yrdline100Class'] = bucket_att['yrdline100Class']\n",
    "bucket_att_final['FavScoreDiffClass'] = bucket_att['FavScoreDiffClass']\n",
    "bucket_def_final['TimeSecsClass'] = bucket_def['TimeSecsClass']\n",
    "bucket_def_final['DownClass'] = bucket_def['DownClass']\n",
    "bucket_def_final['yrdline100Class'] = bucket_def['yrdline100Class']\n",
    "bucket_def_final['FavScoreDiffClass'] = bucket_def['FavScoreDiffClass']"
   ]
  },
  {
   "cell_type": "code",
   "execution_count": 29,
   "metadata": {},
   "outputs": [],
   "source": [
    "bucket_def_final.set_index('TimeSecsClass', inplace=True)\n",
    "bucket_def_final.to_csv('DefenseProbs.csv')"
   ]
  },
  {
   "cell_type": "code",
   "execution_count": 30,
   "metadata": {},
   "outputs": [],
   "source": [
    "bucket_att_final.set_index('TimeSecsClass', inplace=True)\n",
    "bucket_att_final.to_csv('AttackProbs.csv')"
   ]
  },
  {
   "cell_type": "markdown",
   "metadata": {},
   "source": [
    "### Finally all set to build the smoothing function"
   ]
  },
  {
   "cell_type": "code",
   "execution_count": 31,
   "metadata": {},
   "outputs": [],
   "source": [
    "four_probs_att = pd.read_csv('AttackProbs.csv')"
   ]
  },
  {
   "cell_type": "code",
   "execution_count": 32,
   "metadata": {},
   "outputs": [],
   "source": [
    "four_probs_def = pd.read_csv('DefenseProbs.csv')"
   ]
  },
  {
   "cell_type": "code",
   "execution_count": 33,
   "metadata": {},
   "outputs": [],
   "source": [
    "real_probs = pd.read_csv('RealProbs.csv')"
   ]
  },
  {
   "cell_type": "code",
   "execution_count": 34,
   "metadata": {},
   "outputs": [],
   "source": [
    "merged_att = pd.merge(four_probs_att, real_probs, on=['DownClass','FavScoreDiffClass','yrdline100Class','TimeSecsClass'], how='left')"
   ]
  },
  {
   "cell_type": "code",
   "execution_count": 35,
   "metadata": {},
   "outputs": [],
   "source": [
    "merged_att.rename(columns={'counts':'Porg'},inplace=True)"
   ]
  },
  {
   "cell_type": "code",
   "execution_count": 36,
   "metadata": {},
   "outputs": [],
   "source": [
    "merged_att.fillna(0,inplace=True)"
   ]
  },
  {
   "cell_type": "code",
   "execution_count": 37,
   "metadata": {},
   "outputs": [],
   "source": [
    "merged_def = pd.merge(four_probs_def, real_probs, on=['DownClass','FavScoreDiffClass','yrdline100Class','TimeSecsClass'], how='left')"
   ]
  },
  {
   "cell_type": "code",
   "execution_count": 38,
   "metadata": {},
   "outputs": [],
   "source": [
    "merged_def.rename(columns={'counts':'Porg'},inplace=True)"
   ]
  },
  {
   "cell_type": "code",
   "execution_count": 39,
   "metadata": {},
   "outputs": [],
   "source": [
    "merged_def.fillna(0, inplace=True)"
   ]
  },
  {
   "cell_type": "code",
   "execution_count": 40,
   "metadata": {},
   "outputs": [],
   "source": [
    "reg_att = linear_model.LinearRegression()\n",
    "reg_def = linear_model.LinearRegression()"
   ]
  },
  {
   "cell_type": "code",
   "execution_count": 41,
   "metadata": {},
   "outputs": [],
   "source": [
    "X_att = merged_att[['p1','p2','p3','p4']]\n",
    "Y_att = merged_att[['Porg']]        \n",
    "X_def = merged_def[['p1','p2','p3','p4']]\n",
    "Y_def = merged_def[['Porg']]        "
   ]
  },
  {
   "cell_type": "code",
   "execution_count": 42,
   "metadata": {},
   "outputs": [
    {
     "data": {
      "text/plain": [
       "LinearRegression(copy_X=True, fit_intercept=True, n_jobs=1, normalize=False)"
      ]
     },
     "execution_count": 42,
     "metadata": {},
     "output_type": "execute_result"
    }
   ],
   "source": [
    "reg_att.fit(X_att, Y_att)"
   ]
  },
  {
   "cell_type": "code",
   "execution_count": 43,
   "metadata": {},
   "outputs": [
    {
     "data": {
      "text/plain": [
       "LinearRegression(copy_X=True, fit_intercept=True, n_jobs=1, normalize=False)"
      ]
     },
     "execution_count": 43,
     "metadata": {},
     "output_type": "execute_result"
    }
   ],
   "source": [
    "reg_def.fit(X_def, Y_def)"
   ]
  },
  {
   "cell_type": "code",
   "execution_count": 44,
   "metadata": {},
   "outputs": [],
   "source": [
    "Y_att_final = reg_att.predict(X_att)"
   ]
  },
  {
   "cell_type": "code",
   "execution_count": 45,
   "metadata": {},
   "outputs": [],
   "source": [
    "Y_def_final = reg_def.predict(X_def)"
   ]
  },
  {
   "cell_type": "code",
   "execution_count": 46,
   "metadata": {},
   "outputs": [],
   "source": [
    "merged_att['Pmodel'] = Y_att_final"
   ]
  },
  {
   "cell_type": "code",
   "execution_count": 47,
   "metadata": {},
   "outputs": [],
   "source": [
    "merged_def['Pmodel'] = Y_def_final"
   ]
  },
  {
   "cell_type": "code",
   "execution_count": 48,
   "metadata": {},
   "outputs": [],
   "source": [
    "merged_att_towrite = merged_att[['TimeSecsClass','DownClass','yrdline100Class','FavScoreDiffClass','Pmodel']]"
   ]
  },
  {
   "cell_type": "code",
   "execution_count": 49,
   "metadata": {},
   "outputs": [],
   "source": [
    "merged_def_towrite = merged_def[['TimeSecsClass','DownClass','yrdline100Class','FavScoreDiffClass','Pmodel']]"
   ]
  },
  {
   "cell_type": "code",
   "execution_count": 50,
   "metadata": {},
   "outputs": [],
   "source": [
    "merged_att_towrite.set_index('TimeSecsClass',inplace=True)"
   ]
  },
  {
   "cell_type": "code",
   "execution_count": 55,
   "metadata": {},
   "outputs": [],
   "source": [
    "merged_att_towrite['Pmodel'][merged_att_towrite.Pmodel >= 1] = 0.984532"
   ]
  },
  {
   "cell_type": "code",
   "execution_count": 56,
   "metadata": {},
   "outputs": [],
   "source": [
    "merged_att_towrite.to_csv('final_model_data/Attack.csv')"
   ]
  },
  {
   "cell_type": "code",
   "execution_count": 52,
   "metadata": {},
   "outputs": [],
   "source": [
    "merged_def_towrite.set_index('TimeSecsClass', inplace=True)\n",
    "merged_def_towrite.to_csv('final_model_data/Defense.csv')"
   ]
  },
  {
   "cell_type": "code",
   "execution_count": null,
   "metadata": {},
   "outputs": [],
   "source": []
  }
 ],
 "metadata": {
  "kernelspec": {
   "display_name": "Python 3",
   "language": "python",
   "name": "python3"
  },
  "language_info": {
   "codemirror_mode": {
    "name": "ipython",
    "version": 3
   },
   "file_extension": ".py",
   "mimetype": "text/x-python",
   "name": "python",
   "nbconvert_exporter": "python",
   "pygments_lexer": "ipython3",
   "version": "3.4.3"
  }
 },
 "nbformat": 4,
 "nbformat_minor": 2
}
