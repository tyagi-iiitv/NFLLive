{
 "cells": [
  {
   "cell_type": "markdown",
   "metadata": {},
   "source": [
    "## Assumption\n",
    "\n",
    "According to Skiena's note, we could start our model with a linear model likes this:\n",
    "$$P(Wins|\\sim) = f(score,\\ time\\ left,\\ field\\ position)$$ where $\\sim$ are the given observation.\n",
    "\n",
    "\n",
    "### Logistic Regression\n",
    "\n",
    "#### Motivation\n",
    "Since we are going to decide whether a team is going to clear its bets, this might goes to a classification problem (**clear** and **not clear**). We could use **logistic regression** to decide what's the probability that team A is going to clear the bets.\n",
    "\n",
    "#### Usage\n",
    "```python\n",
    "lg = sklearn.linear_model.LogisticRegression()\n",
    "lg.fit(X, y) # X would be the collection of vectors of score, time_left, field_position\n",
    "             # y would be a bunch of value that clear the bet or not\n",
    "prob = predict(X_new) # get the probability\n",
    "```\n",
    "\n",
    "#### How we treat dataset\n",
    "\n",
    "Each match would have 2 blocks of record (the other one is the counterpart)\n",
    "\n"
   ]
  },
  {
   "cell_type": "code",
   "execution_count": 101,
   "metadata": {},
   "outputs": [],
   "source": [
    "import pandas as pd\n",
    "import numpy as np\n",
    "import seaborn as sns\n",
    "import matplotlib.pyplot as plt\n",
    "import sklearn.linear_model as lm\n",
    "from sklearn.preprocessing import normalize"
   ]
  },
  {
   "cell_type": "code",
   "execution_count": 150,
   "metadata": {},
   "outputs": [],
   "source": [
    "dat = pd.read_csv('data/201401-201408_baseline_cleandata.csv')"
   ]
  },
  {
   "cell_type": "code",
   "execution_count": 151,
   "metadata": {},
   "outputs": [
    {
     "data": {
      "text/html": [
       "<div>\n",
       "<style>\n",
       "    .dataframe thead tr:only-child th {\n",
       "        text-align: right;\n",
       "    }\n",
       "\n",
       "    .dataframe thead th {\n",
       "        text-align: left;\n",
       "    }\n",
       "\n",
       "    .dataframe tbody tr th {\n",
       "        vertical-align: top;\n",
       "    }\n",
       "</style>\n",
       "<table border=\"1\" class=\"dataframe\">\n",
       "  <thead>\n",
       "    <tr style=\"text-align: right;\">\n",
       "      <th></th>\n",
       "      <th>qtr</th>\n",
       "      <th>lefttime</th>\n",
       "      <th>score</th>\n",
       "      <th>yrdln</th>\n",
       "      <th>cover</th>\n",
       "      <th>eid</th>\n",
       "      <th>season</th>\n",
       "      <th>week</th>\n",
       "    </tr>\n",
       "  </thead>\n",
       "  <tbody>\n",
       "    <tr>\n",
       "      <th>count</th>\n",
       "      <td>43262.000000</td>\n",
       "      <td>43262.000000</td>\n",
       "      <td>43262.000000</td>\n",
       "      <td>43262.000000</td>\n",
       "      <td>43262.000000</td>\n",
       "      <td>4.326200e+04</td>\n",
       "      <td>43262.0</td>\n",
       "      <td>43262.000000</td>\n",
       "    </tr>\n",
       "    <tr>\n",
       "      <th>mean</th>\n",
       "      <td>2.573020</td>\n",
       "      <td>1725.617586</td>\n",
       "      <td>11.512690</td>\n",
       "      <td>50.000000</td>\n",
       "      <td>0.000000</td>\n",
       "      <td>2.014097e+09</td>\n",
       "      <td>2014.0</td>\n",
       "      <td>4.448107</td>\n",
       "    </tr>\n",
       "    <tr>\n",
       "      <th>std</th>\n",
       "      <td>1.124842</td>\n",
       "      <td>1057.298195</td>\n",
       "      <td>10.277406</td>\n",
       "      <td>25.627503</td>\n",
       "      <td>0.996376</td>\n",
       "      <td>4.985457e+03</td>\n",
       "      <td>0.0</td>\n",
       "      <td>2.318281</td>\n",
       "    </tr>\n",
       "    <tr>\n",
       "      <th>min</th>\n",
       "      <td>1.000000</td>\n",
       "      <td>0.000000</td>\n",
       "      <td>0.000000</td>\n",
       "      <td>1.000000</td>\n",
       "      <td>-1.000000</td>\n",
       "      <td>2.014090e+09</td>\n",
       "      <td>2014.0</td>\n",
       "      <td>1.000000</td>\n",
       "    </tr>\n",
       "    <tr>\n",
       "      <th>25%</th>\n",
       "      <td>2.000000</td>\n",
       "      <td>820.000000</td>\n",
       "      <td>3.000000</td>\n",
       "      <td>29.000000</td>\n",
       "      <td>-1.000000</td>\n",
       "      <td>2.014091e+09</td>\n",
       "      <td>2014.0</td>\n",
       "      <td>2.000000</td>\n",
       "    </tr>\n",
       "    <tr>\n",
       "      <th>50%</th>\n",
       "      <td>3.000000</td>\n",
       "      <td>1800.000000</td>\n",
       "      <td>10.000000</td>\n",
       "      <td>50.000000</td>\n",
       "      <td>0.000000</td>\n",
       "      <td>2.014093e+09</td>\n",
       "      <td>2014.0</td>\n",
       "      <td>4.000000</td>\n",
       "    </tr>\n",
       "    <tr>\n",
       "      <th>75%</th>\n",
       "      <td>4.000000</td>\n",
       "      <td>2614.000000</td>\n",
       "      <td>17.000000</td>\n",
       "      <td>71.000000</td>\n",
       "      <td>1.000000</td>\n",
       "      <td>2.014101e+09</td>\n",
       "      <td>2014.0</td>\n",
       "      <td>6.000000</td>\n",
       "    </tr>\n",
       "    <tr>\n",
       "      <th>max</th>\n",
       "      <td>5.000000</td>\n",
       "      <td>4498.000000</td>\n",
       "      <td>54.000000</td>\n",
       "      <td>99.000000</td>\n",
       "      <td>1.000000</td>\n",
       "      <td>2.014103e+09</td>\n",
       "      <td>2014.0</td>\n",
       "      <td>8.000000</td>\n",
       "    </tr>\n",
       "  </tbody>\n",
       "</table>\n",
       "</div>"
      ],
      "text/plain": [
       "                qtr      lefttime         score         yrdln         cover  \\\n",
       "count  43262.000000  43262.000000  43262.000000  43262.000000  43262.000000   \n",
       "mean       2.573020   1725.617586     11.512690     50.000000      0.000000   \n",
       "std        1.124842   1057.298195     10.277406     25.627503      0.996376   \n",
       "min        1.000000      0.000000      0.000000      1.000000     -1.000000   \n",
       "25%        2.000000    820.000000      3.000000     29.000000     -1.000000   \n",
       "50%        3.000000   1800.000000     10.000000     50.000000      0.000000   \n",
       "75%        4.000000   2614.000000     17.000000     71.000000      1.000000   \n",
       "max        5.000000   4498.000000     54.000000     99.000000      1.000000   \n",
       "\n",
       "                eid   season          week  \n",
       "count  4.326200e+04  43262.0  43262.000000  \n",
       "mean   2.014097e+09   2014.0      4.448107  \n",
       "std    4.985457e+03      0.0      2.318281  \n",
       "min    2.014090e+09   2014.0      1.000000  \n",
       "25%    2.014091e+09   2014.0      2.000000  \n",
       "50%    2.014093e+09   2014.0      4.000000  \n",
       "75%    2.014101e+09   2014.0      6.000000  \n",
       "max    2.014103e+09   2014.0      8.000000  "
      ]
     },
     "execution_count": 151,
     "metadata": {},
     "output_type": "execute_result"
    }
   ],
   "source": [
    "dat.describe()"
   ]
  },
  {
   "cell_type": "code",
   "execution_count": 158,
   "metadata": {},
   "outputs": [],
   "source": [
    "train = dat\n",
    "train = train[train.cover != 0]"
   ]
  },
  {
   "cell_type": "code",
   "execution_count": 159,
   "metadata": {},
   "outputs": [],
   "source": [
    "lg = lm.LogisticRegression()"
   ]
  },
  {
   "cell_type": "code",
   "execution_count": 160,
   "metadata": {},
   "outputs": [
    {
     "data": {
      "text/plain": [
       "array([[ 0.99995274,  0.00972176,  0.        ],\n",
       "       [ 0.99970746,  0.02418647,  0.        ],\n",
       "       [ 0.9997427 ,  0.02268324,  0.        ],\n",
       "       ..., \n",
       "       [ 0.05277339,  0.96311433,  0.26386694],\n",
       "       [ 0.        ,  0.96445829,  0.26423515],\n",
       "       [ 0.        ,  0.96445829,  0.26423515]])"
      ]
     },
     "execution_count": 160,
     "metadata": {},
     "output_type": "execute_result"
    }
   ],
   "source": [
    "X = normalize(train.loc[:,['lefttime', 'yrdln', 'score']])\n",
    "# X = [[200*x[0], x[1], x[2]] for x in X]\n",
    "X"
   ]
  },
  {
   "cell_type": "code",
   "execution_count": 161,
   "metadata": {},
   "outputs": [
    {
     "data": {
      "text/plain": [
       "LogisticRegression(C=1.0, class_weight=None, dual=False, fit_intercept=True,\n",
       "          intercept_scaling=1, max_iter=100, multi_class='ovr', n_jobs=1,\n",
       "          penalty='l2', random_state=None, solver='liblinear', tol=0.0001,\n",
       "          verbose=0, warm_start=False)"
      ]
     },
     "execution_count": 161,
     "metadata": {},
     "output_type": "execute_result"
    }
   ],
   "source": [
    "# weight = 1/(dat.lefttime+1)\n",
    "# lg.fit(X, train.loc[:, 'cover'], sample_weight=weight)\n",
    "lg.fit(X, train.loc[:, 'cover'])"
   ]
  },
  {
   "cell_type": "code",
   "execution_count": 162,
   "metadata": {},
   "outputs": [
    {
     "data": {
      "text/plain": [
       "array([-1.,  1.])"
      ]
     },
     "execution_count": 162,
     "metadata": {},
     "output_type": "execute_result"
    }
   ],
   "source": [
    "lg.classes_"
   ]
  },
  {
   "cell_type": "markdown",
   "metadata": {},
   "source": [
    "## Print the result on season 2014, week 1, match 1 (GB@SEA)"
   ]
  },
  {
   "cell_type": "code",
   "execution_count": 163,
   "metadata": {},
   "outputs": [],
   "source": [
    "d_f = train[(train['week'] == 1) & (train['team'] == 'SEA')]\n",
    "d_u = train[(train['week'] == 1) & (train['team'] == 'GB')]\n",
    "X = normalize(d_f.loc[:,['lefttime', 'yrdln', 'score']])\n",
    "# X = [[200*x[0], x[1], x[2]] for x in X]\n",
    "prob_f = lg.predict_proba(X)\n",
    "X = normalize(d_u.loc[:,['lefttime', 'yrdln', 'score']])\n",
    "# X = [[200*x[0], x[1], x[2]] for x in X]\n",
    "prob_u = lg.predict_proba(X)\n",
    "prob_f = [p[1] for p in prob_f]\n",
    "prob_u = [p[1] for p in prob_u]"
   ]
  },
  {
   "cell_type": "code",
   "execution_count": 165,
   "metadata": {},
   "outputs": [
    {
     "data": {
      "image/png": "[encoded data removed]",
      "text/plain": [
       "<matplotlib.figure.Figure at 0x119d4d250>"
      ]
     },
     "metadata": {},
     "output_type": "display_data"
    }
   ],
   "source": [
    "f, (ax1, ax2) = plt.subplots(2, 1, figsize=(20, 20))\n",
    "\n",
    "\n",
    "ax1.scatter(d_f.lefttime, prob_f)\n",
    "ax1.plot(d_f.lefttime, prob_f)\n",
    "ax1.set_xlim(d_f.lefttime.max(), d_f.lefttime.min())\n",
    "ax1.set_ylim(0, 1, 0.1)\n",
    "ax1.axhline(y=0.5, color='r', linestyle='-')\n",
    "ax1.set_title('Seattle Seahawks: Cover the spread', fontsize=24)\n",
    "\n",
    "ax2.scatter(d_u.lefttime, prob_u)\n",
    "ax2.plot(d_u.lefttime, prob_u)\n",
    "ax2.set_xlim(d_u.lefttime.max(), d_u.lefttime.min())\n",
    "ax2.set_ylim(0, 1, 0.1)\n",
    "ax2.axhline(y=0.5, color='r', linestyle='-')\n",
    "ax2.set_title('Green Bay: Not cover the spread', fontsize=24)\n",
    "\n",
    "\n",
    "\n",
    "\n",
    "\n",
    "plt.show()"
   ]
  },
  {
   "cell_type": "markdown",
   "metadata": {},
   "source": [
    "## Create dataset for evaluation"
   ]
  },
  {
   "cell_type": "code",
   "execution_count": 94,
   "metadata": {},
   "outputs": [],
   "source": [
    "prob = lg.predict_proba(dat.loc[:,['lefttime', 'yrdln', 'score']])\n",
    "cover_prob = [p[1] for p in prob]\n",
    "dat['prob'] = pd.Series(cover_prob)\n",
    "dat.to_csv('data/baseline_need_evaluate.csv', index=False)"
   ]
  },
  {
   "cell_type": "code",
   "execution_count": null,
   "metadata": {},
   "outputs": [],
   "source": []
  }
 ],
 "metadata": {
  "kernelspec": {
   "display_name": "Python 2",
   "language": "python",
   "name": "python2"
  },
  "language_info": {
   "codemirror_mode": {
    "name": "ipython",
    "version": 2
   },
   "file_extension": ".py",
   "mimetype": "text/x-python",
   "name": "python",
   "nbconvert_exporter": "python",
   "pygments_lexer": "ipython2",
   "version": "2.7.10"
  }
 },
 "nbformat": 4,
 "nbformat_minor": 2
}
