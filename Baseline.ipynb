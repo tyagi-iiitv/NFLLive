{
 "cells": [
  {
   "cell_type": "markdown",
   "metadata": {},
   "source": [
    "## Assumption\n",
    "\n",
    "According to Skiena's note, we could start our model with a linear model likes this:\n",
    "$$P(W|\\sim) = f(score,\\ time\\ left,\\ field\\ position)$$ where $\\sim$ are the given observation.\n",
    "\n",
    "\n",
    "### Logistic Regression\n",
    "\n",
    "#### Motivation\n",
    "Since we are going to decide whether a team is going to clear its bets, this might goes to a classification problem (**clear** and **not clear**). We could use **logistic regression** to decide what's the probability that team A is going to clear the bets.\n",
    "\n",
    "#### Usage\n",
    "```python\n",
    "lg = sklearn.linear_model.LogisticRegression()\n",
    "lg.fit(X, y) # X would be the collection of vectors of score, time_left, field_position\n",
    "             # y would be a bunch of value that clear the bet or not\n",
    "prob = predict(X_new) # get the probability\n",
    "```\n",
    "\n",
    "This comes a **question**: How to decide the ground truth of each time stamp (time_left)"
   ]
  },
  {
   "cell_type": "code",
   "execution_count": null,
   "metadata": {},
   "outputs": [],
   "source": []
  }
 ],
 "metadata": {
  "kernelspec": {
   "display_name": "Python 2",
   "language": "python",
   "name": "python2"
  },
  "language_info": {
   "codemirror_mode": {
    "name": "ipython",
    "version": 2
   },
   "file_extension": ".py",
   "mimetype": "text/x-python",
   "name": "python",
   "nbconvert_exporter": "python",
   "pygments_lexer": "ipython2",
   "version": "2.7.10"
  }
 },
 "nbformat": 4,
 "nbformat_minor": 2
}
