{
 "cells": [
  {
   "cell_type": "markdown",
   "metadata": {},
   "source": [
    "## Assumption\n",
    "\n",
    "According to Skiena's note, we could start our model with a linear model likes this:\n",
    "$$P(Wins|\\sim) = f(score,\\ time\\ left,\\ field\\ position)$$ where $\\sim$ are the given observation.\n",
    "\n",
    "\n",
    "### Logistic Regression\n",
    "\n",
    "#### Motivation\n",
    "Since we are going to decide whether a team is going to clear its bets, this might goes to a classification problem (**clear** and **not clear**). We could use **logistic regression** to decide what's the probability that team A is going to clear the bets.\n",
    "\n",
    "#### Usage\n",
    "```python\n",
    "lg = sklearn.linear_model.LogisticRegression()\n",
    "lg.fit(X, y) # X would be the collection of vectors of score, time_left, field_position\n",
    "             # y would be a bunch of value that clear the bet or not\n",
    "prob = predict(X_new) # get the probability\n",
    "```\n",
    "\n",
    "#### How we treat dataset\n",
    "\n",
    "Each match would have 2 blocks of record (the other one is the counterpart)\n",
    "\n"
   ]
  },
  {
   "cell_type": "code",
   "execution_count": 29,
   "metadata": {},
   "outputs": [],
   "source": [
    "import pandas as pd\n",
    "import numpy as np\n",
    "import seaborn as sns\n",
    "import matplotlib.pyplot as plt\n",
    "import sklearn.linear_model as lm"
   ]
  },
  {
   "cell_type": "code",
   "execution_count": 30,
   "metadata": {},
   "outputs": [],
   "source": [
    "dat = pd.read_csv('data/201401-201403_baseline_cleandata.csv')"
   ]
  },
  {
   "cell_type": "code",
   "execution_count": 31,
   "metadata": {},
   "outputs": [
    {
     "data": {
      "text/html": [
       "<div>\n",
       "<style>\n",
       "    .dataframe thead tr:only-child th {\n",
       "        text-align: right;\n",
       "    }\n",
       "\n",
       "    .dataframe thead th {\n",
       "        text-align: left;\n",
       "    }\n",
       "\n",
       "    .dataframe tbody tr th {\n",
       "        vertical-align: top;\n",
       "    }\n",
       "</style>\n",
       "<table border=\"1\" class=\"dataframe\">\n",
       "  <thead>\n",
       "    <tr style=\"text-align: right;\">\n",
       "      <th></th>\n",
       "      <th>qtr</th>\n",
       "      <th>lefttime</th>\n",
       "      <th>score</th>\n",
       "      <th>yrdln</th>\n",
       "      <th>cover</th>\n",
       "      <th>season</th>\n",
       "      <th>week</th>\n",
       "    </tr>\n",
       "  </thead>\n",
       "  <tbody>\n",
       "    <tr>\n",
       "      <th>count</th>\n",
       "      <td>17078.000000</td>\n",
       "      <td>17078.000000</td>\n",
       "      <td>17078.000000</td>\n",
       "      <td>17078.000000</td>\n",
       "      <td>17078.000000</td>\n",
       "      <td>17078.0</td>\n",
       "      <td>17078.000000</td>\n",
       "    </tr>\n",
       "    <tr>\n",
       "      <th>mean</th>\n",
       "      <td>2.573135</td>\n",
       "      <td>1714.640239</td>\n",
       "      <td>10.961061</td>\n",
       "      <td>50.000000</td>\n",
       "      <td>0.000000</td>\n",
       "      <td>2014.0</td>\n",
       "      <td>1.990046</td>\n",
       "    </tr>\n",
       "    <tr>\n",
       "      <th>std</th>\n",
       "      <td>1.122527</td>\n",
       "      <td>1053.513636</td>\n",
       "      <td>9.702795</td>\n",
       "      <td>25.652342</td>\n",
       "      <td>1.000029</td>\n",
       "      <td>0.0</td>\n",
       "      <td>0.818489</td>\n",
       "    </tr>\n",
       "    <tr>\n",
       "      <th>min</th>\n",
       "      <td>1.000000</td>\n",
       "      <td>0.000000</td>\n",
       "      <td>0.000000</td>\n",
       "      <td>1.000000</td>\n",
       "      <td>-1.000000</td>\n",
       "      <td>2014.0</td>\n",
       "      <td>1.000000</td>\n",
       "    </tr>\n",
       "    <tr>\n",
       "      <th>25%</th>\n",
       "      <td>2.000000</td>\n",
       "      <td>813.000000</td>\n",
       "      <td>3.000000</td>\n",
       "      <td>29.000000</td>\n",
       "      <td>-1.000000</td>\n",
       "      <td>2014.0</td>\n",
       "      <td>1.000000</td>\n",
       "    </tr>\n",
       "    <tr>\n",
       "      <th>50%</th>\n",
       "      <td>3.000000</td>\n",
       "      <td>1800.000000</td>\n",
       "      <td>10.000000</td>\n",
       "      <td>50.000000</td>\n",
       "      <td>0.000000</td>\n",
       "      <td>2014.0</td>\n",
       "      <td>2.000000</td>\n",
       "    </tr>\n",
       "    <tr>\n",
       "      <th>75%</th>\n",
       "      <td>4.000000</td>\n",
       "      <td>2603.000000</td>\n",
       "      <td>17.000000</td>\n",
       "      <td>71.000000</td>\n",
       "      <td>1.000000</td>\n",
       "      <td>2014.0</td>\n",
       "      <td>3.000000</td>\n",
       "    </tr>\n",
       "    <tr>\n",
       "      <th>max</th>\n",
       "      <td>5.000000</td>\n",
       "      <td>3941.000000</td>\n",
       "      <td>54.000000</td>\n",
       "      <td>99.000000</td>\n",
       "      <td>1.000000</td>\n",
       "      <td>2014.0</td>\n",
       "      <td>3.000000</td>\n",
       "    </tr>\n",
       "  </tbody>\n",
       "</table>\n",
       "</div>"
      ],
      "text/plain": [
       "                qtr      lefttime         score         yrdln         cover  \\\n",
       "count  17078.000000  17078.000000  17078.000000  17078.000000  17078.000000   \n",
       "mean       2.573135   1714.640239     10.961061     50.000000      0.000000   \n",
       "std        1.122527   1053.513636      9.702795     25.652342      1.000029   \n",
       "min        1.000000      0.000000      0.000000      1.000000     -1.000000   \n",
       "25%        2.000000    813.000000      3.000000     29.000000     -1.000000   \n",
       "50%        3.000000   1800.000000     10.000000     50.000000      0.000000   \n",
       "75%        4.000000   2603.000000     17.000000     71.000000      1.000000   \n",
       "max        5.000000   3941.000000     54.000000     99.000000      1.000000   \n",
       "\n",
       "        season          week  \n",
       "count  17078.0  17078.000000  \n",
       "mean    2014.0      1.990046  \n",
       "std        0.0      0.818489  \n",
       "min     2014.0      1.000000  \n",
       "25%     2014.0      1.000000  \n",
       "50%     2014.0      2.000000  \n",
       "75%     2014.0      3.000000  \n",
       "max     2014.0      3.000000  "
      ]
     },
     "execution_count": 31,
     "metadata": {},
     "output_type": "execute_result"
    }
   ],
   "source": [
    "dat.describe()"
   ]
  },
  {
   "cell_type": "code",
   "execution_count": 50,
   "metadata": {},
   "outputs": [],
   "source": [
    "train = dat"
   ]
  },
  {
   "cell_type": "code",
   "execution_count": 33,
   "metadata": {},
   "outputs": [],
   "source": [
    "test = dat[dat['week'] == 3]"
   ]
  },
  {
   "cell_type": "code",
   "execution_count": 51,
   "metadata": {},
   "outputs": [],
   "source": [
    "lg = lm.LogisticRegression(penalty='l1')"
   ]
  },
  {
   "cell_type": "code",
   "execution_count": 52,
   "metadata": {},
   "outputs": [
    {
     "data": {
      "text/plain": [
       "LogisticRegression(C=1.0, class_weight=None, dual=False, fit_intercept=True,\n",
       "          intercept_scaling=1, max_iter=100, multi_class='ovr', n_jobs=1,\n",
       "          penalty='l1', random_state=None, solver='liblinear', tol=0.0001,\n",
       "          verbose=0, warm_start=False)"
      ]
     },
     "execution_count": 52,
     "metadata": {},
     "output_type": "execute_result"
    }
   ],
   "source": [
    "lg.fit(train.loc[:,['lefttime', 'yrdln', 'score']], train.loc[:, 'cover'])"
   ]
  },
  {
   "cell_type": "code",
   "execution_count": 53,
   "metadata": {},
   "outputs": [
    {
     "data": {
      "text/plain": [
       "array([-1.,  1.])"
      ]
     },
     "execution_count": 53,
     "metadata": {},
     "output_type": "execute_result"
    }
   ],
   "source": [
    "lg.classes_"
   ]
  },
  {
   "cell_type": "markdown",
   "metadata": {},
   "source": [
    "## Print the result on season 2014, week 1, match 1 (GB@SEA)"
   ]
  },
  {
   "cell_type": "code",
   "execution_count": 82,
   "metadata": {},
   "outputs": [],
   "source": [
    "d_f = train[(train['week'] == 1) & (train['team'] == 'SEA')]\n",
    "d_u = train[(train['week'] == 1) & (train['team'] == 'GB')]\n",
    "prob_f = lg.predict_proba(d_f.loc[:,['lefttime', 'yrdln', 'score']])\n",
    "prob_u = lg.predict_proba(d_u.loc[:,['lefttime', 'yrdln', 'score']])\n",
    "prob_f = [p[1] for p in prob_f]\n",
    "prob_u = [p[1] for p in prob_u]"
   ]
  },
  {
   "cell_type": "code",
   "execution_count": 83,
   "metadata": {},
   "outputs": [
    {
     "data": {
      "image/png": "[encoded data removed]",
      "text/plain": [
       "<matplotlib.figure.Figure at 0x115a5d510>"
      ]
     },
     "metadata": {},
     "output_type": "display_data"
    }
   ],
   "source": [
    "f, (ax1, ax2) = plt.subplots(2, 1, figsize=(20, 20))\n",
    "\n",
    "\n",
    "ax1.scatter(d_f.lefttime, prob_f)\n",
    "ax1.plot(d_f.lefttime, prob_f)\n",
    "ax1.set_xlim(d_f.lefttime.max(), d_f.lefttime.min())\n",
    "ax1.set_ylim(0, 1)\n",
    "ax1.axhline(y=0.5, color='r', linestyle='-')\n",
    "ax1.set_title('SEA')\n",
    "\n",
    "ax2.scatter(d_u.lefttime, prob_u)\n",
    "ax2.plot(d_u.lefttime, prob_u)\n",
    "ax2.set_xlim(d_u.lefttime.max(), d_u.lefttime.min())\n",
    "ax2.set_ylim(0, 1)\n",
    "ax2.axhline(y=0.5, color='r', linestyle='-')\n",
    "ax2.set_title('GB')\n",
    "\n",
    "\n",
    "\n",
    "\n",
    "\n",
    "plt.show()"
   ]
  },
  {
   "cell_type": "markdown",
   "metadata": {},
   "source": [
    "## Create dataset for "
   ]
  },
  {
   "cell_type": "code",
   "execution_count": 56,
   "metadata": {},
   "outputs": [],
   "source": [
    "prob = lg.predict_proba(dat.loc[:,['lefttime', 'yrdln', 'score']])\n",
    "cover_prob = [p[1] for p in prob]\n",
    "dat['prob'] = pd.Series(cover_prob)\n",
    "dat.to_csv('data/baseline_need_evaluate.csv', index=False)"
   ]
  },
  {
   "cell_type": "code",
   "execution_count": null,
   "metadata": {},
   "outputs": [],
   "source": []
  }
 ],
 "metadata": {
  "kernelspec": {
   "display_name": "Python 2",
   "language": "python",
   "name": "python2"
  },
  "language_info": {
   "codemirror_mode": {
    "name": "ipython",
    "version": 2
   },
   "file_extension": ".py",
   "mimetype": "text/x-python",
   "name": "python",
   "nbconvert_exporter": "python",
   "pygments_lexer": "ipython2",
   "version": "2.7.10"
  }
 },
 "nbformat": 4,
 "nbformat_minor": 2
}
