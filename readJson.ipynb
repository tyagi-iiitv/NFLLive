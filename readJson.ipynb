{
 "cells": [
  {
   "cell_type": "code",
   "execution_count": 1,
   "metadata": {
    "collapsed": true
   },
   "outputs": [],
   "source": [
    "import json\n",
    "import requests"
   ]
  },
  {
   "cell_type": "code",
   "execution_count": 2,
   "metadata": {
    "collapsed": true
   },
   "outputs": [],
   "source": [
    "json_data = json.loads(requests.get('http://www.nfl.com/liveupdate/game-center/2012020500/2012020500_gtd.json').text)"
   ]
  },
  {
   "cell_type": "code",
   "execution_count": 3,
   "metadata": {
    "collapsed": true
   },
   "outputs": [],
   "source": [
    "match_id = list(json_data.keys())[0]"
   ]
  },
  {
   "cell_type": "code",
   "execution_count": 4,
   "metadata": {
    "collapsed": true
   },
   "outputs": [],
   "source": [
    "drives = list(json_data[match_id]['drives'].keys())"
   ]
  },
  {
   "cell_type": "code",
   "execution_count": null,
   "metadata": {
    "collapsed": true
   },
   "outputs": [],
   "source": []
  },
  {
   "cell_type": "code",
   "execution_count": 5,
   "metadata": {
    "collapsed": true
   },
   "outputs": [],
   "source": [
    "colnames_plays = ['down','time','desc','ydstogo','qtr','ydsnet','yrdln','sp','posteam','note']\n",
    "colnames_drives = ['fds','result','penyds','ydsgained','numplays','postime']"
   ]
  },
  {
   "cell_type": "code",
   "execution_count": 6,
   "metadata": {
    "collapsed": true
   },
   "outputs": [],
   "source": [
    "\n",
    "file_plays = match_id + '_plays.csv'\n",
    "file_drives = match_id + '_drives.csv'"
   ]
  },
  {
   "cell_type": "code",
   "execution_count": 7,
   "metadata": {
    "collapsed": true
   },
   "outputs": [],
   "source": [
    "with open(file_drives,'w') as csvfile:\n",
    "    writer = csv.DictWriter(csvfile, fieldnames=colnames_drives)\n",
    "    writer.writeheader()\n",
    "    for values in drives:\n",
    "        if values == 'crntdrv':\n",
    "            continue\n",
    "        fds = json_data[match_id]['drives'][values]['fds']\n",
    "        result = json_data[match_id]['drives'][values]['result']\n",
    "        penyds = json_data[match_id]['drives'][values]['penyds']\n",
    "        ydsgained = json_data[match_id]['drives'][values]['ydsgained']\n",
    "        numplays = json_data[match_id]['drives'][values]['numplays']\n",
    "        postime = json_data[match_id]['drives'][values]['postime']\n",
    "        writer.writerow({'fds':fds, 'result':result, 'penyds':penyds, 'ydsgained':ydsgained,\n",
    "                         'numplays':numplays,'postime':postime})\n",
    "        "
   ]
  },
  {
   "cell_type": "code",
   "execution_count": null,
   "metadata": {
    "collapsed": true
   },
   "outputs": [],
   "source": [
    "    "
   ]
  },
  {
   "cell_type": "code",
   "execution_count": 8,
   "metadata": {
    "collapsed": true
   },
   "outputs": [],
   "source": [
    "with open(file_plays,'w')as csvfile:\n",
    "    writer = csv.DictWriter(csvfile,fieldnames=colnames_plays)\n",
    "    writer.writeheader()\n",
    "    for values in drives:\n",
    "        if values == 'crntdrv':\n",
    "            continue\n",
    "        plays = list(json_data[match_id]['drives'][values]['plays'].keys())\n",
    "        for play in plays:\n",
    "            down = json_data[match_id]['drives'][values]['plays'][play]['down']\n",
    "            time = json_data[match_id]['drives'][values]['plays'][play]['time']\n",
    "            desc = json_data[match_id]['drives'][values]['plays'][play]['desc']\n",
    "            ydstogo = json_data[match_id]['drives'][values]['plays'][play]['ydstogo']\n",
    "            qtr = json_data[match_id]['drives'][values]['plays'][play]['qtr']\n",
    "            ydsnet = json_data[match_id]['drives'][values]['plays'][play]['ydsnet']\n",
    "            yrdln = json_data[match_id]['drives'][values]['plays'][play]['yrdln']\n",
    "            sp = json_data[match_id]['drives'][values]['plays'][play]['sp']\n",
    "            posteam = json_data[match_id]['drives'][values]['plays'][play]['posteam']\n",
    "            writer.writerow({'down':down, 'time':time, 'desc':desc, 'ydstogo':ydstogo,\n",
    "                             'qtr':qtr,'ydsnet':ydsnet,'yrdln':yrdln,'sp':sp,'posteam':posteam})"
   ]
  },
  {
   "cell_type": "markdown",
   "metadata": {},
   "source": [
    "#### I got the match dates in the game_data folder"
   ]
  },
  {
   "cell_type": "code",
   "execution_count": 2,
   "metadata": {
    "collapsed": true
   },
   "outputs": [],
   "source": [
    "import pandas as pd\n",
    "import csv\n",
    "import json\n",
    "import requests"
   ]
  },
  {
   "cell_type": "code",
   "execution_count": 3,
   "metadata": {
    "collapsed": true
   },
   "outputs": [],
   "source": [
    "match_ids = pd.read_csv('data/game_data/pbp-2013_17.csv',usecols=['GameId'])"
   ]
  },
  {
   "cell_type": "code",
   "execution_count": 5,
   "metadata": {},
   "outputs": [
    {
     "name": "stdout",
     "output_type": "stream",
     "text": [
      "2013090901\n"
     ]
    },
    {
     "ename": "TypeError",
     "evalue": "'int' object is not subscriptable",
     "output_type": "error",
     "traceback": [
      "\u001b[0;31m---------------------------------------------------------------------------\u001b[0m",
      "\u001b[0;31mTypeError\u001b[0m                                 Traceback (most recent call last)",
      "\u001b[0;32m<ipython-input-5-0c3153b72db4>\u001b[0m in \u001b[0;36m<module>\u001b[0;34m()\u001b[0m\n\u001b[1;32m      4\u001b[0m     \u001b[0mjson_data\u001b[0m \u001b[0;34m=\u001b[0m \u001b[0mjson\u001b[0m\u001b[0;34m.\u001b[0m\u001b[0mloads\u001b[0m\u001b[0;34m(\u001b[0m\u001b[0mrequests\u001b[0m\u001b[0;34m.\u001b[0m\u001b[0mget\u001b[0m\u001b[0;34m(\u001b[0m\u001b[0mfilename\u001b[0m\u001b[0;34m)\u001b[0m\u001b[0;34m.\u001b[0m\u001b[0mtext\u001b[0m\u001b[0;34m)\u001b[0m\u001b[0;34m\u001b[0m\u001b[0m\n\u001b[1;32m      5\u001b[0m     \u001b[0mmatch_id\u001b[0m \u001b[0;34m=\u001b[0m \u001b[0mlist\u001b[0m\u001b[0;34m(\u001b[0m\u001b[0mjson_data\u001b[0m\u001b[0;34m.\u001b[0m\u001b[0mkeys\u001b[0m\u001b[0;34m(\u001b[0m\u001b[0;34m)\u001b[0m\u001b[0;34m)\u001b[0m\u001b[0;34m[\u001b[0m\u001b[0;36m0\u001b[0m\u001b[0;34m]\u001b[0m\u001b[0;34m\u001b[0m\u001b[0m\n\u001b[0;32m----> 6\u001b[0;31m     \u001b[0mdrives\u001b[0m \u001b[0;34m=\u001b[0m \u001b[0mlist\u001b[0m\u001b[0;34m(\u001b[0m\u001b[0mjson_data\u001b[0m\u001b[0;34m[\u001b[0m\u001b[0mstr\u001b[0m\u001b[0;34m(\u001b[0m\u001b[0mmatch_id\u001b[0m\u001b[0;34m)\u001b[0m\u001b[0;34m]\u001b[0m\u001b[0;34m[\u001b[0m\u001b[0;34m'drives'\u001b[0m\u001b[0;34m]\u001b[0m\u001b[0;34m.\u001b[0m\u001b[0mkeys\u001b[0m\u001b[0;34m(\u001b[0m\u001b[0;34m)\u001b[0m\u001b[0;34m)\u001b[0m\u001b[0;34m\u001b[0m\u001b[0m\n\u001b[0m\u001b[1;32m      7\u001b[0m     \u001b[0mcolnames_plays\u001b[0m \u001b[0;34m=\u001b[0m \u001b[0;34m[\u001b[0m\u001b[0;34m'down'\u001b[0m\u001b[0;34m,\u001b[0m\u001b[0;34m'time'\u001b[0m\u001b[0;34m,\u001b[0m\u001b[0;34m'desc'\u001b[0m\u001b[0;34m,\u001b[0m\u001b[0;34m'ydstogo'\u001b[0m\u001b[0;34m,\u001b[0m\u001b[0;34m'qtr'\u001b[0m\u001b[0;34m,\u001b[0m\u001b[0;34m'ydsnet'\u001b[0m\u001b[0;34m,\u001b[0m\u001b[0;34m'yrdln'\u001b[0m\u001b[0;34m,\u001b[0m\u001b[0;34m'sp'\u001b[0m\u001b[0;34m,\u001b[0m\u001b[0;34m'posteam'\u001b[0m\u001b[0;34m,\u001b[0m\u001b[0;34m'note'\u001b[0m\u001b[0;34m]\u001b[0m\u001b[0;34m\u001b[0m\u001b[0m\n\u001b[1;32m      8\u001b[0m     \u001b[0mcolnames_drives\u001b[0m \u001b[0;34m=\u001b[0m \u001b[0;34m[\u001b[0m\u001b[0;34m'fds'\u001b[0m\u001b[0;34m,\u001b[0m\u001b[0;34m'result'\u001b[0m\u001b[0;34m,\u001b[0m\u001b[0;34m'penyds'\u001b[0m\u001b[0;34m,\u001b[0m\u001b[0;34m'ydsgained'\u001b[0m\u001b[0;34m,\u001b[0m\u001b[0;34m'numplays'\u001b[0m\u001b[0;34m,\u001b[0m\u001b[0;34m'postime'\u001b[0m\u001b[0;34m]\u001b[0m\u001b[0;34m\u001b[0m\u001b[0m\n",
      "\u001b[0;31mTypeError\u001b[0m: 'int' object is not subscriptable"
     ]
    }
   ],
   "source": [
    "for match in list(match_ids['GameId']):\n",
    "    print(match)\n",
    "    filename = 'http://www.nfl.com/liveupdate/game-center/'+str(match)+'/'+str(match)+'_gtd.json'\n",
    "    json_data = json.loads(requests.get(filename).text)\n",
    "    match_id = list(json_data.keys())[0]\n",
    "    drives = list(json_data[str(match_id)]['drives'].keys())\n",
    "    colnames_plays = ['down','time','desc','ydstogo','qtr','ydsnet','yrdln','sp','posteam','note']\n",
    "    colnames_drives = ['fds','result','penyds','ydsgained','numplays','postime']\n",
    "    file_plays = match_id + '_plays.csv'\n",
    "    file_drives = match_id + '_drives.csv'\n",
    "    with open(file_drives,'w') as csvfile:\n",
    "        writer = csv.DictWriter(csvfile, fieldnames=colnames_drives)\n",
    "        writer.writeheader()\n",
    "        for values in drives:\n",
    "            if values == 'crntdrv':\n",
    "                continue\n",
    "            fds = json_data[match_id]['drives'][values]['fds']\n",
    "            result = json_data[match_id]['drives'][values]['result']\n",
    "            penyds = json_data[match_id]['drives'][values]['penyds']\n",
    "            ydsgained = json_data[match_id]['drives'][values]['ydsgained']\n",
    "            numplays = json_data[match_id]['drives'][values]['numplays']\n",
    "            postime = json_data[match_id]['drives'][values]['postime']\n",
    "            writer.writerow({'fds':fds, 'result':result, 'penyds':penyds, 'ydsgained':ydsgained,\n",
    "                             'numplays':numplays,'postime':postime})\n",
    "    with open(file_plays,'w')as csvfile:\n",
    "        writer = csv.DictWriter(csvfile,fieldnames=colnames_plays)\n",
    "        writer.writeheader()\n",
    "        for values in drives:\n",
    "            if values == 'crntdrv':\n",
    "                continue\n",
    "            plays = list(json_data[match_id]['drives'][values]['plays'].keys())\n",
    "            for play in plays:\n",
    "                down = json_data[match_id]['drives'][values]['plays'][play]['down']\n",
    "                time = json_data[match_id]['drives'][values]['plays'][play]['time']\n",
    "                desc = json_data[match_id]['drives'][values]['plays'][play]['desc']\n",
    "                ydstogo = json_data[match_id]['drives'][values]['plays'][play]['ydstogo']\n",
    "                qtr = json_data[match_id]['drives'][values]['plays'][play]['qtr']\n",
    "                ydsnet = json_data[match_id]['drives'][values]['plays'][play]['ydsnet']\n",
    "                yrdln = json_data[match_id]['drives'][values]['plays'][play]['yrdln']\n",
    "                sp = json_data[match_id]['drives'][values]['plays'][play]['sp']\n",
    "                posteam = json_data[match_id]['drives'][values]['plays'][play]['posteam']\n",
    "                writer.writerow({'down':down, 'time':time, 'desc':desc, 'ydstogo':ydstogo,\n",
    "                                 'qtr':qtr,'ydsnet':ydsnet,'yrdln':yrdln,'sp':sp,'posteam':posteam})"
   ]
  },
  {
   "cell_type": "code",
   "execution_count": null,
   "metadata": {
    "collapsed": true
   },
   "outputs": [],
   "source": []
  }
 ],
 "metadata": {
  "kernelspec": {
   "display_name": "Python 2",
   "language": "python",
   "name": "python2"
  },
  "language_info": {
   "codemirror_mode": {
    "name": "ipython",
    "version": 2
   },
   "file_extension": ".py",
   "mimetype": "text/x-python",
   "name": "python",
   "nbconvert_exporter": "python",
   "pygments_lexer": "ipython2",
   "version": "2.7.13"
  }
 },
 "nbformat": 4,
 "nbformat_minor": 2
}
