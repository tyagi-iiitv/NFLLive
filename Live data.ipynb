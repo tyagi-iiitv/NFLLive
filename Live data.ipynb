{
 "cells": [
  {
   "cell_type": "code",
   "execution_count": 32,
   "metadata": {
    "collapsed": true
   },
   "outputs": [],
   "source": [
    "import json\n",
    "import requests\n",
    "import csv\n",
    "import time"
   ]
  },
  {
   "cell_type": "code",
   "execution_count": 33,
   "metadata": {
    "collapsed": true
   },
   "outputs": [],
   "source": [
    "colnames_plays = ['down','time','desc','ydstogo','qtr','ydsnet','yrdln','sp','posteam','note']\n",
    "colnames_drives = ['fds','result','penyds','ydsgained','numplays','postime']"
   ]
  },
  {
   "cell_type": "code",
   "execution_count": 34,
   "metadata": {
    "collapsed": true
   },
   "outputs": [],
   "source": [
    "match_id = '2017113000'"
   ]
  },
  {
   "cell_type": "code",
   "execution_count": 35,
   "metadata": {
    "collapsed": true
   },
   "outputs": [],
   "source": [
    "file_plays = match_id + '_plays.csv'\n",
    "file_drives = match_id + '_drives.csv'"
   ]
  },
  {
   "cell_type": "code",
   "execution_count": 36,
   "metadata": {
    "collapsed": true
   },
   "outputs": [],
   "source": [
    "def periodic_work(interval):\n",
    "    while True:\n",
    "        json_data = json.loads(requests.get('http://www.nfl.com/liveupdate/game-center/'+match_id+'/'+match_id+'_gtd.json').text)\n",
    "        drives = list(json_data[match_id]['drives'].keys())\n",
    "        with open(file_drives,'w') as csvfile:\n",
    "            writer = csv.DictWriter(csvfile, fieldnames=colnames_drives)\n",
    "            writer.writeheader()\n",
    "            for values in drives:\n",
    "                if values == 'crntdrv':\n",
    "                    continue\n",
    "                fds = json_data[match_id]['drives'][values]['fds']\n",
    "                result = json_data[match_id]['drives'][values]['result']\n",
    "                penyds = json_data[match_id]['drives'][values]['penyds']\n",
    "                ydsgained = json_data[match_id]['drives'][values]['ydsgained']\n",
    "                numplays = json_data[match_id]['drives'][values]['numplays']\n",
    "                postime = json_data[match_id]['drives'][values]['postime']\n",
    "                if (result != \"\"):\n",
    "                    writer.writerow({'fds':fds, 'result':result, 'penyds':penyds, 'ydsgained':ydsgained,\n",
    "                                     'numplays':numplays,'postime':postime})\n",
    "        with open(file_plays,'w')as csvfile:\n",
    "            writer = csv.DictWriter(csvfile,fieldnames=colnames_plays)\n",
    "            writer.writeheader()\n",
    "            for values in drives:\n",
    "                if values == 'crntdrv':\n",
    "                    continue\n",
    "                plays = list(json_data[match_id]['drives'][values]['plays'].keys())\n",
    "                for play in plays:\n",
    "                    down = json_data[match_id]['drives'][values]['plays'][play]['down']\n",
    "                    timet = json_data[match_id]['drives'][values]['plays'][play]['time']\n",
    "                    desc = json_data[match_id]['drives'][values]['plays'][play]['desc']\n",
    "                    ydstogo = json_data[match_id]['drives'][values]['plays'][play]['ydstogo']\n",
    "                    qtr = json_data[match_id]['drives'][values]['plays'][play]['qtr']\n",
    "                    ydsnet = json_data[match_id]['drives'][values]['plays'][play]['ydsnet']\n",
    "                    yrdln = json_data[match_id]['drives'][values]['plays'][play]['yrdln']\n",
    "                    sp = json_data[match_id]['drives'][values]['plays'][play]['sp']\n",
    "                    posteam = json_data[match_id]['drives'][values]['plays'][play]['posteam']\n",
    "                    writer.writerow({'down':down, 'time':timet, 'desc':desc, 'ydstogo':ydstogo,\n",
    "                                     'qtr':qtr,'ydsnet':ydsnet,'yrdln':yrdln,'sp':sp,'posteam':posteam})\n",
    "                    \n",
    "        time.sleep(interval)"
   ]
  },
  {
   "cell_type": "code",
   "execution_count": null,
   "metadata": {},
   "outputs": [],
   "source": [
    "periodic_work(15)"
   ]
  }
 ],
 "metadata": {
  "kernelspec": {
   "display_name": "Python 3",
   "language": "python",
   "name": "python3"
  },
  "language_info": {
   "codemirror_mode": {
    "name": "ipython",
    "version": 3
   },
   "file_extension": ".py",
   "mimetype": "text/x-python",
   "name": "python",
   "nbconvert_exporter": "python",
   "pygments_lexer": "ipython3",
   "version": "3.6.1"
  }
 },
 "nbformat": 4,
 "nbformat_minor": 2
}
