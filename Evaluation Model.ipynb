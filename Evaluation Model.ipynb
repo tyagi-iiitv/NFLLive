{
 "cells": [
  {
   "cell_type": "code",
   "execution_count": 1,
   "metadata": {},
   "outputs": [],
   "source": [
    "import pandas as pd\n",
    "import numpy as np"
   ]
  },
  {
   "cell_type": "code",
   "execution_count": 2,
   "metadata": {},
   "outputs": [],
   "source": [
    "import matplotlib.pyplot as plt\n",
    "# plt.rcParams['figure.figsize'] = (25, 6)\n",
    "%matplotlib inline"
   ]
  },
  {
   "cell_type": "code",
   "execution_count": 146,
   "metadata": {},
   "outputs": [],
   "source": [
    "prob_data = pd.read_csv('data/baseline_need_evaluate.csv')"
   ]
  },
  {
   "cell_type": "code",
   "execution_count": 147,
   "metadata": {},
   "outputs": [],
   "source": [
    "nbins = 100"
   ]
  },
  {
   "cell_type": "code",
   "execution_count": 148,
   "metadata": {},
   "outputs": [],
   "source": [
    "numr = prob_data.groupby('prob').apply(lambda x: x[x['cover']==1]['eid'].unique().shape[0])"
   ]
  },
  {
   "cell_type": "code",
   "execution_count": 149,
   "metadata": {},
   "outputs": [],
   "source": [
    "numr = numr.reset_index()"
   ]
  },
  {
   "cell_type": "code",
   "execution_count": 150,
   "metadata": {},
   "outputs": [],
   "source": [
    "numr.columns=['prob','count']"
   ]
  },
  {
   "cell_type": "code",
   "execution_count": 151,
   "metadata": {},
   "outputs": [
    {
     "data": {
      "text/html": [
       "<div>\n",
       "<style>\n",
       "    .dataframe thead tr:only-child th {\n",
       "        text-align: right;\n",
       "    }\n",
       "\n",
       "    .dataframe thead th {\n",
       "        text-align: left;\n",
       "    }\n",
       "\n",
       "    .dataframe tbody tr th {\n",
       "        vertical-align: top;\n",
       "    }\n",
       "</style>\n",
       "<table border=\"1\" class=\"dataframe\">\n",
       "  <thead>\n",
       "    <tr style=\"text-align: right;\">\n",
       "      <th></th>\n",
       "      <th>prob</th>\n",
       "      <th>count</th>\n",
       "    </tr>\n",
       "  </thead>\n",
       "  <tbody>\n",
       "    <tr>\n",
       "      <th>count</th>\n",
       "      <td>40052.000000</td>\n",
       "      <td>40052.000000</td>\n",
       "    </tr>\n",
       "    <tr>\n",
       "      <th>mean</th>\n",
       "      <td>0.470288</td>\n",
       "      <td>0.519000</td>\n",
       "    </tr>\n",
       "    <tr>\n",
       "      <th>std</th>\n",
       "      <td>0.019237</td>\n",
       "      <td>0.708113</td>\n",
       "    </tr>\n",
       "    <tr>\n",
       "      <th>min</th>\n",
       "      <td>0.330523</td>\n",
       "      <td>0.000000</td>\n",
       "    </tr>\n",
       "    <tr>\n",
       "      <th>25%</th>\n",
       "      <td>0.464876</td>\n",
       "      <td>0.000000</td>\n",
       "    </tr>\n",
       "    <tr>\n",
       "      <th>50%</th>\n",
       "      <td>0.465975</td>\n",
       "      <td>1.000000</td>\n",
       "    </tr>\n",
       "    <tr>\n",
       "      <th>75%</th>\n",
       "      <td>0.469091</td>\n",
       "      <td>1.000000</td>\n",
       "    </tr>\n",
       "    <tr>\n",
       "      <th>max</th>\n",
       "      <td>0.734236</td>\n",
       "      <td>58.000000</td>\n",
       "    </tr>\n",
       "  </tbody>\n",
       "</table>\n",
       "</div>"
      ],
      "text/plain": [
       "               prob         count\n",
       "count  40052.000000  40052.000000\n",
       "mean       0.470288      0.519000\n",
       "std        0.019237      0.708113\n",
       "min        0.330523      0.000000\n",
       "25%        0.464876      0.000000\n",
       "50%        0.465975      1.000000\n",
       "75%        0.469091      1.000000\n",
       "max        0.734236     58.000000"
      ]
     },
     "execution_count": 151,
     "metadata": {},
     "output_type": "execute_result"
    }
   ],
   "source": [
    "numr.describe()"
   ]
  },
  {
   "cell_type": "code",
   "execution_count": 152,
   "metadata": {},
   "outputs": [],
   "source": [
    "denr = prob_data.groupby('prob').apply(lambda x: x['eid'].unique().shape[0])"
   ]
  },
  {
   "cell_type": "code",
   "execution_count": 153,
   "metadata": {},
   "outputs": [],
   "source": [
    "denr = denr.reset_index()"
   ]
  },
  {
   "cell_type": "code",
   "execution_count": 154,
   "metadata": {},
   "outputs": [],
   "source": [
    "denr.columns=['prob','count']"
   ]
  },
  {
   "cell_type": "code",
   "execution_count": 155,
   "metadata": {},
   "outputs": [
    {
     "data": {
      "text/html": [
       "<div>\n",
       "<style>\n",
       "    .dataframe thead tr:only-child th {\n",
       "        text-align: right;\n",
       "    }\n",
       "\n",
       "    .dataframe thead th {\n",
       "        text-align: left;\n",
       "    }\n",
       "\n",
       "    .dataframe tbody tr th {\n",
       "        vertical-align: top;\n",
       "    }\n",
       "</style>\n",
       "<table border=\"1\" class=\"dataframe\">\n",
       "  <thead>\n",
       "    <tr style=\"text-align: right;\">\n",
       "      <th></th>\n",
       "      <th>prob</th>\n",
       "      <th>count</th>\n",
       "    </tr>\n",
       "  </thead>\n",
       "  <tbody>\n",
       "    <tr>\n",
       "      <th>count</th>\n",
       "      <td>40052.000000</td>\n",
       "      <td>40052.000000</td>\n",
       "    </tr>\n",
       "    <tr>\n",
       "      <th>mean</th>\n",
       "      <td>0.470288</td>\n",
       "      <td>1.044118</td>\n",
       "    </tr>\n",
       "    <tr>\n",
       "      <th>std</th>\n",
       "      <td>0.019237</td>\n",
       "      <td>1.003590</td>\n",
       "    </tr>\n",
       "    <tr>\n",
       "      <th>min</th>\n",
       "      <td>0.330523</td>\n",
       "      <td>1.000000</td>\n",
       "    </tr>\n",
       "    <tr>\n",
       "      <th>25%</th>\n",
       "      <td>0.464876</td>\n",
       "      <td>1.000000</td>\n",
       "    </tr>\n",
       "    <tr>\n",
       "      <th>50%</th>\n",
       "      <td>0.465975</td>\n",
       "      <td>1.000000</td>\n",
       "    </tr>\n",
       "    <tr>\n",
       "      <th>75%</th>\n",
       "      <td>0.469091</td>\n",
       "      <td>1.000000</td>\n",
       "    </tr>\n",
       "    <tr>\n",
       "      <th>max</th>\n",
       "      <td>0.734236</td>\n",
       "      <td>113.000000</td>\n",
       "    </tr>\n",
       "  </tbody>\n",
       "</table>\n",
       "</div>"
      ],
      "text/plain": [
       "               prob         count\n",
       "count  40052.000000  40052.000000\n",
       "mean       0.470288      1.044118\n",
       "std        0.019237      1.003590\n",
       "min        0.330523      1.000000\n",
       "25%        0.464876      1.000000\n",
       "50%        0.465975      1.000000\n",
       "75%        0.469091      1.000000\n",
       "max        0.734236    113.000000"
      ]
     },
     "execution_count": 155,
     "metadata": {},
     "output_type": "execute_result"
    }
   ],
   "source": [
    "denr.describe()"
   ]
  },
  {
   "cell_type": "code",
   "execution_count": 156,
   "metadata": {},
   "outputs": [],
   "source": [
    "numr_bins, bins_n = np.histogram(numr['prob'],weights=numr['count'],bins = nbins)"
   ]
  },
  {
   "cell_type": "code",
   "execution_count": 157,
   "metadata": {},
   "outputs": [],
   "source": [
    "denr_bins, bins_d = np.histogram(denr['prob'],weights=denr['count'], bins=nbins)"
   ]
  },
  {
   "cell_type": "code",
   "execution_count": 158,
   "metadata": {},
   "outputs": [],
   "source": [
    "final_motherfucking_values = [float(numr_bins[i])/float(denr_bins[i]+1) for i in range(100)]"
   ]
  },
  {
   "cell_type": "code",
   "execution_count": 159,
   "metadata": {},
   "outputs": [
    {
     "data": {
      "text/plain": [
       "[0.0,\n",
       " 0.0,\n",
       " 0.0,\n",
       " 0.0,\n",
       " 0.0,\n",
       " 0.0,\n",
       " 0.0,\n",
       " 0.0,\n",
       " 0.2222222222222222,\n",
       " 0.0,\n",
       " 0.16666666666666666,\n",
       " 0.0,\n",
       " 0.3333333333333333,\n",
       " 0.1,\n",
       " 0.36363636363636365,\n",
       " 0.2857142857142857,\n",
       " 0.2,\n",
       " 0.5384615384615384,\n",
       " 0.35,\n",
       " 0.3333333333333333,\n",
       " 0.3333333333333333,\n",
       " 0.5,\n",
       " 0.3225806451612903,\n",
       " 0.358974358974359,\n",
       " 0.40625,\n",
       " 0.375,\n",
       " 0.27906976744186046,\n",
       " 0.16666666666666666,\n",
       " 0.15384615384615385,\n",
       " 0.2727272727272727,\n",
       " 0.26174496644295303,\n",
       " 0.259927797833935,\n",
       " 0.31719924812030076,\n",
       " 0.48653127288142123,\n",
       " 0.5430679478380234,\n",
       " 0.5621468926553672,\n",
       " 0.545045045045045,\n",
       " 0.6109589041095891,\n",
       " 0.6042105263157894,\n",
       " 0.6306818181818182,\n",
       " 0.6048109965635738,\n",
       " 0.5662650602409639,\n",
       " 0.5476190476190477,\n",
       " 0.5865921787709497,\n",
       " 0.504,\n",
       " 0.6349206349206349,\n",
       " 0.6875,\n",
       " 0.6071428571428571,\n",
       " 0.6301369863013698,\n",
       " 0.6470588235294118,\n",
       " 0.6129032258064516,\n",
       " 0.46938775510204084,\n",
       " 0.6415094339622641,\n",
       " 0.49019607843137253,\n",
       " 0.6511627906976745,\n",
       " 0.5128205128205128,\n",
       " 0.5757575757575758,\n",
       " 0.5,\n",
       " 0.5925925925925926,\n",
       " 0.6296296296296297,\n",
       " 0.7083333333333334,\n",
       " 0.6666666666666666,\n",
       " 0.5652173913043478,\n",
       " 0.8,\n",
       " 0.7142857142857143,\n",
       " 0.7,\n",
       " 0.4,\n",
       " 0.5,\n",
       " 0.5,\n",
       " 0.7272727272727273,\n",
       " 0.46153846153846156,\n",
       " 0.8888888888888888,\n",
       " 0.5555555555555556,\n",
       " 0.6666666666666666,\n",
       " 0.2,\n",
       " 0.42857142857142855,\n",
       " 0.2,\n",
       " 0.6,\n",
       " 0.5,\n",
       " 0.75,\n",
       " 0.6,\n",
       " 0.75,\n",
       " 0.2,\n",
       " 0.5,\n",
       " 0.8,\n",
       " 0.6666666666666666,\n",
       " 0.6,\n",
       " 0.42857142857142855,\n",
       " 0.7142857142857143,\n",
       " 0.5,\n",
       " 0.0,\n",
       " 0.5,\n",
       " 0.5,\n",
       " 0.14285714285714285,\n",
       " 0.4,\n",
       " 0.0,\n",
       " 0.5,\n",
       " 0.6666666666666666,\n",
       " 0.5714285714285714,\n",
       " 0.5]"
      ]
     },
     "execution_count": 159,
     "metadata": {},
     "output_type": "execute_result"
    }
   ],
   "source": [
    "final_motherfucking_values"
   ]
  },
  {
   "cell_type": "code",
   "execution_count": 160,
   "metadata": {},
   "outputs": [
    {
     "data": {
      "image/png": "[encoded data removed]",
      "text/plain": [
       "<matplotlib.figure.Figure at 0x10ebee7d0>"
      ]
     },
     "metadata": {},
     "output_type": "display_data"
    }
   ],
   "source": [
    "fig,ax = plt.subplots(figsize=(8,8))\n",
    "ax.bar(bins_d[:-1],final_motherfucking_values, width=np.diff(bins_d),align='edge')\n",
    "x = np.linspace(0,1)\n",
    "ax.plot(x,x,color='red')\n",
    "\n",
    "ax.set_title('(Time weighted) Evaluation', fontsize=24)\n",
    "ax.set_xlabel('Probability of covering the bet', fontsize=18)\n",
    "ax.set_ylabel(\"Fraction of games containing probability p,\\n for which the bet was covered\", fontsize=18)\n",
    "ax.tick_params(labelsize=18)\n",
    "\n",
    "plt.show()"
   ]
  },
  {
   "cell_type": "code",
   "execution_count": null,
   "metadata": {},
   "outputs": [],
   "source": []
  }
 ],
 "metadata": {
  "kernelspec": {
   "display_name": "Python 3",
   "language": "python",
   "name": "python3"
  },
  "language_info": {
   "codemirror_mode": {
    "name": "ipython",
    "version": 3
   },
   "file_extension": ".py",
   "mimetype": "text/x-python",
   "name": "python",
   "nbconvert_exporter": "python",
   "pygments_lexer": "ipython3",
   "version": "3.4.3"
  }
 },
 "nbformat": 4,
 "nbformat_minor": 2
}
