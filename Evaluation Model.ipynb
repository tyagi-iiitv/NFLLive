{
 "cells": [
  {
   "cell_type": "code",
   "execution_count": 1,
   "metadata": {},
   "outputs": [],
   "source": [
    "import pandas as pd\n",
    "import numpy as np"
   ]
  },
  {
   "cell_type": "code",
   "execution_count": 2,
   "metadata": {},
   "outputs": [],
   "source": [
    "import matplotlib.pyplot as plt\n",
    "# plt.rcParams['figure.figsize'] = (25, 6)\n",
    "%matplotlib inline"
   ]
  },
  {
   "cell_type": "code",
   "execution_count": 3,
   "metadata": {},
   "outputs": [],
   "source": [
    "data = pd.read_csv('data/full_data')"
   ]
  },
  {
   "cell_type": "code",
   "execution_count": 5,
   "metadata": {},
   "outputs": [],
   "source": [
    "data_att = data[data['favTeamOnBall']==1]"
   ]
  },
  {
   "cell_type": "code",
   "execution_count": 6,
   "metadata": {},
   "outputs": [],
   "source": [
    "data_def = data[data['favTeamOnBall']==-1]"
   ]
  },
  {
   "cell_type": "code",
   "execution_count": 7,
   "metadata": {},
   "outputs": [],
   "source": [
    "att = pd.read_csv('final_model_data/Attack.csv')\n",
    "defense = pd.read_csv('final_model_data/Defense.csv')"
   ]
  },
  {
   "cell_type": "code",
   "execution_count": 10,
   "metadata": {},
   "outputs": [
    {
     "data": {
      "text/html": [
       "<div>\n",
       "<style scoped>\n",
       "    .dataframe tbody tr th:only-of-type {\n",
       "        vertical-align: middle;\n",
       "    }\n",
       "\n",
       "    .dataframe tbody tr th {\n",
       "        vertical-align: top;\n",
       "    }\n",
       "\n",
       "    .dataframe thead th {\n",
       "        text-align: right;\n",
       "    }\n",
       "</style>\n",
       "<table border=\"1\" class=\"dataframe\">\n",
       "  <thead>\n",
       "    <tr style=\"text-align: right;\">\n",
       "      <th></th>\n",
       "      <th>GameID</th>\n",
       "      <th>Drive</th>\n",
       "      <th>qtr</th>\n",
       "      <th>down</th>\n",
       "      <th>TimeSecs</th>\n",
       "      <th>yrdline100</th>\n",
       "      <th>posteam</th>\n",
       "      <th>DefensiveTeam</th>\n",
       "      <th>sp</th>\n",
       "      <th>ScoreDiff</th>\n",
       "      <th>...</th>\n",
       "      <th>Underdog</th>\n",
       "      <th>Spread</th>\n",
       "      <th>CoverOrNot</th>\n",
       "      <th>FavScoreDiff</th>\n",
       "      <th>favTeamOnBall</th>\n",
       "      <th>DownClass</th>\n",
       "      <th>TimeSecsClass</th>\n",
       "      <th>yrdline100Class</th>\n",
       "      <th>FavScoreDiffClass</th>\n",
       "      <th>Prob</th>\n",
       "    </tr>\n",
       "  </thead>\n",
       "  <tbody>\n",
       "  </tbody>\n",
       "</table>\n",
       "<p>0 rows × 31 columns</p>\n",
       "</div>"
      ],
      "text/plain": [
       "Empty DataFrame\n",
       "Columns: [GameID, Drive, qtr, down, TimeSecs, yrdline100, posteam, DefensiveTeam, sp, ScoreDiff, HomeTeam, AwayTeam, season, week, Home, Away, HomeScore, AwayScore, Day, Time, Favorite, Underdog, Spread, CoverOrNot, FavScoreDiff, favTeamOnBall, DownClass, TimeSecsClass, yrdline100Class, FavScoreDiffClass, Prob]\n",
       "Index: []\n",
       "\n",
       "[0 rows x 31 columns]"
      ]
     },
     "execution_count": 10,
     "metadata": {},
     "output_type": "execute_result"
    }
   ],
   "source": [
    "data.head(0)"
   ]
  },
  {
   "cell_type": "code",
   "execution_count": 11,
   "metadata": {},
   "outputs": [],
   "source": [
    "data_att = pd.merge(data_att, att, on=['DownClass','FavScoreDiffClass','yrdline100Class','TimeSecsClass'], how='left')"
   ]
  },
  {
   "cell_type": "code",
   "execution_count": 12,
   "metadata": {},
   "outputs": [],
   "source": [
    "data_def = pd.merge(data_def, defense, on=['DownClass','FavScoreDiffClass','yrdline100Class','TimeSecsClass'], how='left')"
   ]
  },
  {
   "cell_type": "code",
   "execution_count": 14,
   "metadata": {},
   "outputs": [
    {
     "data": {
      "text/html": [
       "<div>\n",
       "<style scoped>\n",
       "    .dataframe tbody tr th:only-of-type {\n",
       "        vertical-align: middle;\n",
       "    }\n",
       "\n",
       "    .dataframe tbody tr th {\n",
       "        vertical-align: top;\n",
       "    }\n",
       "\n",
       "    .dataframe thead th {\n",
       "        text-align: right;\n",
       "    }\n",
       "</style>\n",
       "<table border=\"1\" class=\"dataframe\">\n",
       "  <thead>\n",
       "    <tr style=\"text-align: right;\">\n",
       "      <th></th>\n",
       "      <th>GameID</th>\n",
       "      <th>Drive</th>\n",
       "      <th>qtr</th>\n",
       "      <th>down</th>\n",
       "      <th>TimeSecs</th>\n",
       "      <th>yrdline100</th>\n",
       "      <th>posteam</th>\n",
       "      <th>DefensiveTeam</th>\n",
       "      <th>sp</th>\n",
       "      <th>ScoreDiff</th>\n",
       "      <th>...</th>\n",
       "      <th>Spread</th>\n",
       "      <th>CoverOrNot</th>\n",
       "      <th>FavScoreDiff</th>\n",
       "      <th>favTeamOnBall</th>\n",
       "      <th>DownClass</th>\n",
       "      <th>TimeSecsClass</th>\n",
       "      <th>yrdline100Class</th>\n",
       "      <th>FavScoreDiffClass</th>\n",
       "      <th>Prob</th>\n",
       "      <th>Pmodel</th>\n",
       "    </tr>\n",
       "  </thead>\n",
       "  <tbody>\n",
       "    <tr>\n",
       "      <th>0</th>\n",
       "      <td>2013090500</td>\n",
       "      <td>1</td>\n",
       "      <td>1</td>\n",
       "      <td>1.0</td>\n",
       "      <td>3600.0</td>\n",
       "      <td>80.0</td>\n",
       "      <td>BAL</td>\n",
       "      <td>DEN</td>\n",
       "      <td>0</td>\n",
       "      <td>0.0</td>\n",
       "      <td>...</td>\n",
       "      <td>-7.5</td>\n",
       "      <td>1.0</td>\n",
       "      <td>-0.0</td>\n",
       "      <td>-1</td>\n",
       "      <td>1</td>\n",
       "      <td>59</td>\n",
       "      <td>8</td>\n",
       "      <td>7</td>\n",
       "      <td>0.464577</td>\n",
       "      <td>0.491664</td>\n",
       "    </tr>\n",
       "    <tr>\n",
       "      <th>1</th>\n",
       "      <td>2013090500</td>\n",
       "      <td>1</td>\n",
       "      <td>1</td>\n",
       "      <td>2.0</td>\n",
       "      <td>3554.0</td>\n",
       "      <td>81.0</td>\n",
       "      <td>BAL</td>\n",
       "      <td>DEN</td>\n",
       "      <td>0</td>\n",
       "      <td>0.0</td>\n",
       "      <td>...</td>\n",
       "      <td>-7.5</td>\n",
       "      <td>1.0</td>\n",
       "      <td>-0.0</td>\n",
       "      <td>-1</td>\n",
       "      <td>2</td>\n",
       "      <td>59</td>\n",
       "      <td>9</td>\n",
       "      <td>7</td>\n",
       "      <td>0.467181</td>\n",
       "      <td>0.498609</td>\n",
       "    </tr>\n",
       "    <tr>\n",
       "      <th>2</th>\n",
       "      <td>2013090500</td>\n",
       "      <td>1</td>\n",
       "      <td>1</td>\n",
       "      <td>3.0</td>\n",
       "      <td>3518.0</td>\n",
       "      <td>78.0</td>\n",
       "      <td>BAL</td>\n",
       "      <td>DEN</td>\n",
       "      <td>0</td>\n",
       "      <td>0.0</td>\n",
       "      <td>...</td>\n",
       "      <td>-7.5</td>\n",
       "      <td>1.0</td>\n",
       "      <td>-0.0</td>\n",
       "      <td>-1</td>\n",
       "      <td>3</td>\n",
       "      <td>58</td>\n",
       "      <td>8</td>\n",
       "      <td>7</td>\n",
       "      <td>0.509346</td>\n",
       "      <td>0.494024</td>\n",
       "    </tr>\n",
       "    <tr>\n",
       "      <th>3</th>\n",
       "      <td>2013090500</td>\n",
       "      <td>1</td>\n",
       "      <td>1</td>\n",
       "      <td>4.0</td>\n",
       "      <td>3498.0</td>\n",
       "      <td>72.0</td>\n",
       "      <td>BAL</td>\n",
       "      <td>DEN</td>\n",
       "      <td>0</td>\n",
       "      <td>0.0</td>\n",
       "      <td>...</td>\n",
       "      <td>-7.5</td>\n",
       "      <td>1.0</td>\n",
       "      <td>-0.0</td>\n",
       "      <td>-1</td>\n",
       "      <td>4</td>\n",
       "      <td>58</td>\n",
       "      <td>8</td>\n",
       "      <td>7</td>\n",
       "      <td>0.464730</td>\n",
       "      <td>0.492616</td>\n",
       "    </tr>\n",
       "    <tr>\n",
       "      <th>4</th>\n",
       "      <td>2013090500</td>\n",
       "      <td>3</td>\n",
       "      <td>1</td>\n",
       "      <td>1.0</td>\n",
       "      <td>3369.0</td>\n",
       "      <td>80.0</td>\n",
       "      <td>BAL</td>\n",
       "      <td>DEN</td>\n",
       "      <td>0</td>\n",
       "      <td>0.0</td>\n",
       "      <td>...</td>\n",
       "      <td>-7.5</td>\n",
       "      <td>1.0</td>\n",
       "      <td>-0.0</td>\n",
       "      <td>-1</td>\n",
       "      <td>1</td>\n",
       "      <td>56</td>\n",
       "      <td>8</td>\n",
       "      <td>7</td>\n",
       "      <td>0.402010</td>\n",
       "      <td>0.476251</td>\n",
       "    </tr>\n",
       "  </tbody>\n",
       "</table>\n",
       "<p>5 rows × 32 columns</p>\n",
       "</div>"
      ],
      "text/plain": [
       "       GameID  Drive  qtr  down  TimeSecs  yrdline100 posteam DefensiveTeam  \\\n",
       "0  2013090500      1    1   1.0    3600.0        80.0     BAL           DEN   \n",
       "1  2013090500      1    1   2.0    3554.0        81.0     BAL           DEN   \n",
       "2  2013090500      1    1   3.0    3518.0        78.0     BAL           DEN   \n",
       "3  2013090500      1    1   4.0    3498.0        72.0     BAL           DEN   \n",
       "4  2013090500      3    1   1.0    3369.0        80.0     BAL           DEN   \n",
       "\n",
       "   sp  ScoreDiff    ...    Spread CoverOrNot  FavScoreDiff  favTeamOnBall  \\\n",
       "0   0        0.0    ...      -7.5        1.0          -0.0             -1   \n",
       "1   0        0.0    ...      -7.5        1.0          -0.0             -1   \n",
       "2   0        0.0    ...      -7.5        1.0          -0.0             -1   \n",
       "3   0        0.0    ...      -7.5        1.0          -0.0             -1   \n",
       "4   0        0.0    ...      -7.5        1.0          -0.0             -1   \n",
       "\n",
       "  DownClass TimeSecsClass  yrdline100Class  FavScoreDiffClass      Prob  \\\n",
       "0         1            59                8                  7  0.464577   \n",
       "1         2            59                9                  7  0.467181   \n",
       "2         3            58                8                  7  0.509346   \n",
       "3         4            58                8                  7  0.464730   \n",
       "4         1            56                8                  7  0.402010   \n",
       "\n",
       "     Pmodel  \n",
       "0  0.491664  \n",
       "1  0.498609  \n",
       "2  0.494024  \n",
       "3  0.492616  \n",
       "4  0.476251  \n",
       "\n",
       "[5 rows x 32 columns]"
      ]
     },
     "execution_count": 14,
     "metadata": {},
     "output_type": "execute_result"
    }
   ],
   "source": [
    "data_def.head()"
   ]
  },
  {
   "cell_type": "code",
   "execution_count": 31,
   "metadata": {},
   "outputs": [],
   "source": [
    "prob_data = data_def"
   ]
  },
  {
   "cell_type": "code",
   "execution_count": 32,
   "metadata": {},
   "outputs": [],
   "source": [
    "nbins = 100"
   ]
  },
  {
   "cell_type": "code",
   "execution_count": 33,
   "metadata": {},
   "outputs": [],
   "source": [
    "numr = prob_data.groupby('Pmodel').apply(lambda x: x[x['CoverOrNot']==1]['GameID'].unique().shape[0])"
   ]
  },
  {
   "cell_type": "code",
   "execution_count": 34,
   "metadata": {},
   "outputs": [],
   "source": [
    "numr = numr.reset_index()"
   ]
  },
  {
   "cell_type": "code",
   "execution_count": 35,
   "metadata": {},
   "outputs": [],
   "source": [
    "numr.columns=['prob','count']"
   ]
  },
  {
   "cell_type": "code",
   "execution_count": 36,
   "metadata": {},
   "outputs": [
    {
     "data": {
      "text/html": [
       "<div>\n",
       "<style scoped>\n",
       "    .dataframe tbody tr th:only-of-type {\n",
       "        vertical-align: middle;\n",
       "    }\n",
       "\n",
       "    .dataframe tbody tr th {\n",
       "        vertical-align: top;\n",
       "    }\n",
       "\n",
       "    .dataframe thead th {\n",
       "        text-align: right;\n",
       "    }\n",
       "</style>\n",
       "<table border=\"1\" class=\"dataframe\">\n",
       "  <thead>\n",
       "    <tr style=\"text-align: right;\">\n",
       "      <th></th>\n",
       "      <th>prob</th>\n",
       "      <th>count</th>\n",
       "    </tr>\n",
       "  </thead>\n",
       "  <tbody>\n",
       "    <tr>\n",
       "      <th>count</th>\n",
       "      <td>20087.000000</td>\n",
       "      <td>20087.000000</td>\n",
       "    </tr>\n",
       "    <tr>\n",
       "      <th>mean</th>\n",
       "      <td>0.510963</td>\n",
       "      <td>3.552298</td>\n",
       "    </tr>\n",
       "    <tr>\n",
       "      <th>std</th>\n",
       "      <td>0.196022</td>\n",
       "      <td>6.248070</td>\n",
       "    </tr>\n",
       "    <tr>\n",
       "      <th>min</th>\n",
       "      <td>0.157307</td>\n",
       "      <td>0.000000</td>\n",
       "    </tr>\n",
       "    <tr>\n",
       "      <th>25%</th>\n",
       "      <td>0.326821</td>\n",
       "      <td>0.000000</td>\n",
       "    </tr>\n",
       "    <tr>\n",
       "      <th>50%</th>\n",
       "      <td>0.498038</td>\n",
       "      <td>2.000000</td>\n",
       "    </tr>\n",
       "    <tr>\n",
       "      <th>75%</th>\n",
       "      <td>0.702753</td>\n",
       "      <td>5.000000</td>\n",
       "    </tr>\n",
       "    <tr>\n",
       "      <th>max</th>\n",
       "      <td>0.920958</td>\n",
       "      <td>373.000000</td>\n",
       "    </tr>\n",
       "  </tbody>\n",
       "</table>\n",
       "</div>"
      ],
      "text/plain": [
       "               prob         count\n",
       "count  20087.000000  20087.000000\n",
       "mean       0.510963      3.552298\n",
       "std        0.196022      6.248070\n",
       "min        0.157307      0.000000\n",
       "25%        0.326821      0.000000\n",
       "50%        0.498038      2.000000\n",
       "75%        0.702753      5.000000\n",
       "max        0.920958    373.000000"
      ]
     },
     "execution_count": 36,
     "metadata": {},
     "output_type": "execute_result"
    }
   ],
   "source": [
    "numr.describe()"
   ]
  },
  {
   "cell_type": "code",
   "execution_count": 37,
   "metadata": {},
   "outputs": [],
   "source": [
    "denr = prob_data.groupby('Pmodel').apply(lambda x: x['GameID'].unique().shape[0])"
   ]
  },
  {
   "cell_type": "code",
   "execution_count": 38,
   "metadata": {},
   "outputs": [],
   "source": [
    "denr = denr.reset_index()"
   ]
  },
  {
   "cell_type": "code",
   "execution_count": 39,
   "metadata": {},
   "outputs": [],
   "source": [
    "denr.columns=['prob','count']"
   ]
  },
  {
   "cell_type": "code",
   "execution_count": 40,
   "metadata": {},
   "outputs": [
    {
     "data": {
      "text/html": [
       "<div>\n",
       "<style scoped>\n",
       "    .dataframe tbody tr th:only-of-type {\n",
       "        vertical-align: middle;\n",
       "    }\n",
       "\n",
       "    .dataframe tbody tr th {\n",
       "        vertical-align: top;\n",
       "    }\n",
       "\n",
       "    .dataframe thead th {\n",
       "        text-align: right;\n",
       "    }\n",
       "</style>\n",
       "<table border=\"1\" class=\"dataframe\">\n",
       "  <thead>\n",
       "    <tr style=\"text-align: right;\">\n",
       "      <th></th>\n",
       "      <th>prob</th>\n",
       "      <th>count</th>\n",
       "    </tr>\n",
       "  </thead>\n",
       "  <tbody>\n",
       "    <tr>\n",
       "      <th>count</th>\n",
       "      <td>20087.000000</td>\n",
       "      <td>20087.000000</td>\n",
       "    </tr>\n",
       "    <tr>\n",
       "      <th>mean</th>\n",
       "      <td>0.510963</td>\n",
       "      <td>7.718873</td>\n",
       "    </tr>\n",
       "    <tr>\n",
       "      <th>std</th>\n",
       "      <td>0.196022</td>\n",
       "      <td>12.358931</td>\n",
       "    </tr>\n",
       "    <tr>\n",
       "      <th>min</th>\n",
       "      <td>0.157307</td>\n",
       "      <td>1.000000</td>\n",
       "    </tr>\n",
       "    <tr>\n",
       "      <th>25%</th>\n",
       "      <td>0.326821</td>\n",
       "      <td>2.000000</td>\n",
       "    </tr>\n",
       "    <tr>\n",
       "      <th>50%</th>\n",
       "      <td>0.498038</td>\n",
       "      <td>4.000000</td>\n",
       "    </tr>\n",
       "    <tr>\n",
       "      <th>75%</th>\n",
       "      <td>0.702753</td>\n",
       "      <td>10.000000</td>\n",
       "    </tr>\n",
       "    <tr>\n",
       "      <th>max</th>\n",
       "      <td>0.920958</td>\n",
       "      <td>806.000000</td>\n",
       "    </tr>\n",
       "  </tbody>\n",
       "</table>\n",
       "</div>"
      ],
      "text/plain": [
       "               prob         count\n",
       "count  20087.000000  20087.000000\n",
       "mean       0.510963      7.718873\n",
       "std        0.196022     12.358931\n",
       "min        0.157307      1.000000\n",
       "25%        0.326821      2.000000\n",
       "50%        0.498038      4.000000\n",
       "75%        0.702753     10.000000\n",
       "max        0.920958    806.000000"
      ]
     },
     "execution_count": 40,
     "metadata": {},
     "output_type": "execute_result"
    }
   ],
   "source": [
    "denr.describe()"
   ]
  },
  {
   "cell_type": "code",
   "execution_count": 41,
   "metadata": {},
   "outputs": [],
   "source": [
    "numr_bins, bins_n = np.histogram(numr['prob'],weights=numr['count'],bins = nbins)"
   ]
  },
  {
   "cell_type": "code",
   "execution_count": 42,
   "metadata": {},
   "outputs": [],
   "source": [
    "denr_bins, bins_d = np.histogram(denr['prob'],weights=denr['count'], bins=nbins)"
   ]
  },
  {
   "cell_type": "code",
   "execution_count": 43,
   "metadata": {},
   "outputs": [],
   "source": [
    "final_motherfucking_values = [float(numr_bins[i])/float(denr_bins[i]+1) for i in range(100)]"
   ]
  },
  {
   "cell_type": "code",
   "execution_count": 44,
   "metadata": {},
   "outputs": [
    {
     "data": {
      "text/plain": [
       "[0.0,\n",
       " 0.0,\n",
       " 0.007352941176470588,\n",
       " 0.0025575447570332483,\n",
       " 0.015594541910331383,\n",
       " 0.012640449438202247,\n",
       " 0.023676880222841225,\n",
       " 0.031813361611876985,\n",
       " 0.027777777777777776,\n",
       " 0.03019213174748399,\n",
       " 0.030844155844155844,\n",
       " 0.04819277108433735,\n",
       " 0.056768558951965066,\n",
       " 0.064797507788162,\n",
       " 0.07324276432368576,\n",
       " 0.08700906344410876,\n",
       " 0.10087241003271538,\n",
       " 0.10603588907014681,\n",
       " 0.11807498601007274,\n",
       " 0.12752912323727775,\n",
       " 0.15122534369396293,\n",
       " 0.14304291287386217,\n",
       " 0.17329910141206675,\n",
       " 0.1681178834561286,\n",
       " 0.20692090395480225,\n",
       " 0.20150943396226415,\n",
       " 0.2339986235375086,\n",
       " 0.23961840628507294,\n",
       " 0.24062816616008106,\n",
       " 0.2734584450402145,\n",
       " 0.2808080808080808,\n",
       " 0.2786703601108033,\n",
       " 0.3002288329519451,\n",
       " 0.2867504835589942,\n",
       " 0.3103448275862069,\n",
       " 0.32217573221757323,\n",
       " 0.32679465776293826,\n",
       " 0.36027813993915686,\n",
       " 0.3618368962787015,\n",
       " 0.36241900647948166,\n",
       " 0.39420203227734607,\n",
       " 0.3865353037766831,\n",
       " 0.4244201546254332,\n",
       " 0.4174174174174174,\n",
       " 0.42419894787183166,\n",
       " 0.42621969470218496,\n",
       " 0.42755604155276106,\n",
       " 0.4322097378277154,\n",
       " 0.4607487922705314,\n",
       " 0.4760655737704918,\n",
       " 0.4996053670086819,\n",
       " 0.5035971223021583,\n",
       " 0.5006031363088058,\n",
       " 0.5,\n",
       " 0.47087676272225626,\n",
       " 0.4989630858564911,\n",
       " 0.5227064919231942,\n",
       " 0.5515759312320917,\n",
       " 0.5920379146919431,\n",
       " 0.6175574070310912,\n",
       " 0.6361111111111111,\n",
       " 0.6723629935179729,\n",
       " 0.6968036529680365,\n",
       " 0.673773987206823,\n",
       " 0.7152317880794702,\n",
       " 0.7267080745341615,\n",
       " 0.6894117647058824,\n",
       " 0.7,\n",
       " 0.6773296244784422,\n",
       " 0.7049486461251168,\n",
       " 0.7197885196374623,\n",
       " 0.7335120643431635,\n",
       " 0.7685142058686539,\n",
       " 0.7856128726928537,\n",
       " 0.8091085271317829,\n",
       " 0.8265019651880966,\n",
       " 0.8620466321243523,\n",
       " 0.872249822569198,\n",
       " 0.8756927949326999,\n",
       " 0.8977536793183578,\n",
       " 0.9048059149722736,\n",
       " 0.9125095932463546,\n",
       " 0.9345088161209067,\n",
       " 0.9191123836793128,\n",
       " 0.9404761904761905,\n",
       " 0.9333333333333333,\n",
       " 0.9581554227156277,\n",
       " 0.9739208633093526,\n",
       " 0.9827387802071347,\n",
       " 0.9798657718120806,\n",
       " 0.9761904761904762,\n",
       " 0.9903147699757869,\n",
       " 0.9848484848484849,\n",
       " 0.9841269841269841,\n",
       " 0.96875,\n",
       " 0.9865771812080537,\n",
       " 0.9795918367346939,\n",
       " 0.9887640449438202,\n",
       " 0.9926470588235294,\n",
       " 0.987012987012987]"
      ]
     },
     "execution_count": 44,
     "metadata": {},
     "output_type": "execute_result"
    }
   ],
   "source": [
    "final_motherfucking_values"
   ]
  },
  {
   "cell_type": "code",
   "execution_count": 45,
   "metadata": {},
   "outputs": [
    {
     "data": {
      "image/png": "[encoded data removed]",
      "text/plain": [
       "<matplotlib.figure.Figure at 0x7f79eb63e4a8>"
      ]
     },
     "metadata": {},
     "output_type": "display_data"
    }
   ],
   "source": [
    "fig,ax = plt.subplots(figsize=(8,8))\n",
    "ax.bar(bins_d[:-1],final_motherfucking_values, width=np.diff(bins_d),align='edge')\n",
    "x = np.linspace(0,1)\n",
    "ax.plot(x,x,color='red')\n",
    "\n",
    "ax.set_title('(Time weighted) Evaluation', fontsize=24)\n",
    "ax.set_xlabel('Probability of covering the bet', fontsize=18)\n",
    "ax.set_ylabel(\"Fraction of games containing probability p,\\n for which the bet was covered\", fontsize=18)\n",
    "ax.tick_params(labelsize=18)\n",
    "\n",
    "plt.show()"
   ]
  },
  {
   "cell_type": "code",
   "execution_count": null,
   "metadata": {},
   "outputs": [],
   "source": []
  }
 ],
 "metadata": {
  "kernelspec": {
   "display_name": "Python 3",
   "language": "python",
   "name": "python3"
  },
  "language_info": {
   "codemirror_mode": {
    "name": "ipython",
    "version": 3
   },
   "file_extension": ".py",
   "mimetype": "text/x-python",
   "name": "python",
   "nbconvert_exporter": "python",
   "pygments_lexer": "ipython3",
   "version": "3.4.3"
  }
 },
 "nbformat": 4,
 "nbformat_minor": 2
}
